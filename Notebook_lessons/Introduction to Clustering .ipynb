{
 "cells": [
  {
   "cell_type": "markdown",
   "metadata": {},
   "source": [
    "# Introduction to Clustering  \n",
    "\n",
    "### Overview\n",
    "\n",
    "This session will introduce the concept of clustering. We are going to introduce clustering through an example. \n",
    "\n",
    "Lets create a simple easy to follow \"by hand\" realization of k means clustering. We are going to simulate some dummy data. Suppose we have subjects/individuals and we have a measurment for each person for feature A and feature B. "
   ]
  },
  {
   "cell_type": "code",
   "execution_count": 2,
   "metadata": {
    "collapsed": false
   },
   "outputs": [
    {
     "data": {
      "text/html": [
       "<div>\n",
       "<table border=\"1\" class=\"dataframe\">\n",
       "  <thead>\n",
       "    <tr style=\"text-align: right;\">\n",
       "      <th></th>\n",
       "      <th>A</th>\n",
       "      <th>B</th>\n",
       "      <th>individual</th>\n",
       "    </tr>\n",
       "  </thead>\n",
       "  <tbody>\n",
       "    <tr>\n",
       "      <th>0</th>\n",
       "      <td>1.0</td>\n",
       "      <td>1.0</td>\n",
       "      <td>1</td>\n",
       "    </tr>\n",
       "    <tr>\n",
       "      <th>1</th>\n",
       "      <td>1.5</td>\n",
       "      <td>2.0</td>\n",
       "      <td>2</td>\n",
       "    </tr>\n",
       "    <tr>\n",
       "      <th>2</th>\n",
       "      <td>3.0</td>\n",
       "      <td>4.0</td>\n",
       "      <td>3</td>\n",
       "    </tr>\n",
       "    <tr>\n",
       "      <th>3</th>\n",
       "      <td>5.0</td>\n",
       "      <td>7.0</td>\n",
       "      <td>4</td>\n",
       "    </tr>\n",
       "    <tr>\n",
       "      <th>4</th>\n",
       "      <td>3.5</td>\n",
       "      <td>5.0</td>\n",
       "      <td>5</td>\n",
       "    </tr>\n",
       "    <tr>\n",
       "      <th>5</th>\n",
       "      <td>4.5</td>\n",
       "      <td>5.0</td>\n",
       "      <td>6</td>\n",
       "    </tr>\n",
       "    <tr>\n",
       "      <th>6</th>\n",
       "      <td>3.5</td>\n",
       "      <td>4.5</td>\n",
       "      <td>7</td>\n",
       "    </tr>\n",
       "  </tbody>\n",
       "</table>\n",
       "</div>"
      ],
      "text/plain": [
       "     A    B  individual\n",
       "0  1.0  1.0           1\n",
       "1  1.5  2.0           2\n",
       "2  3.0  4.0           3\n",
       "3  5.0  7.0           4\n",
       "4  3.5  5.0           5\n",
       "5  4.5  5.0           6\n",
       "6  3.5  4.5           7"
      ]
     },
     "execution_count": 2,
     "metadata": {},
     "output_type": "execute_result"
    }
   ],
   "source": [
    "import pandas as pd #bring in pandas module and assign it an alias \n",
    "\n",
    "data=pd.DataFrame({\"individual\":[1,2,3, 4, 5, 6, 7],\n",
    "                   \"A\" : [1.0, 1.5, 3.0, 5.0, 3.5, 4.5, 3.5],\n",
    "                  \"B\" : [1.0, 2.0, 4.0, 7.0, 5.0, 5.0, 4.5]}) #Use a dictrionary type to define columns and entries \n",
    "\n",
    "data"
   ]
  },
  {
   "cell_type": "markdown",
   "metadata": {},
   "source": [
    "Suppose we want to group the dataset into two clusters. A reasonable approach to determine on what to split on would be to use a Euclidean distance measure to identify the two individuals whose A and B measures are the farthest apart. In  other words, we apply a simple difference of B-A as a length D. We base our clusters on this difference. "
   ]
  },
  {
   "cell_type": "code",
   "execution_count": 4,
   "metadata": {
    "collapsed": false
   },
   "outputs": [
    {
     "data": {
      "text/html": [
       "<div>\n",
       "<table border=\"1\" class=\"dataframe\">\n",
       "  <thead>\n",
       "    <tr style=\"text-align: right;\">\n",
       "      <th></th>\n",
       "      <th>A</th>\n",
       "      <th>B</th>\n",
       "      <th>subject</th>\n",
       "      <th>distance</th>\n",
       "    </tr>\n",
       "  </thead>\n",
       "  <tbody>\n",
       "    <tr>\n",
       "      <th>0</th>\n",
       "      <td>1.0</td>\n",
       "      <td>1.0</td>\n",
       "      <td>1</td>\n",
       "      <td>0.0</td>\n",
       "    </tr>\n",
       "    <tr>\n",
       "      <th>1</th>\n",
       "      <td>1.5</td>\n",
       "      <td>2.0</td>\n",
       "      <td>2</td>\n",
       "      <td>0.5</td>\n",
       "    </tr>\n",
       "    <tr>\n",
       "      <th>2</th>\n",
       "      <td>3.0</td>\n",
       "      <td>4.0</td>\n",
       "      <td>3</td>\n",
       "      <td>1.0</td>\n",
       "    </tr>\n",
       "    <tr>\n",
       "      <th>3</th>\n",
       "      <td>5.0</td>\n",
       "      <td>7.0</td>\n",
       "      <td>4</td>\n",
       "      <td>2.0</td>\n",
       "    </tr>\n",
       "    <tr>\n",
       "      <th>4</th>\n",
       "      <td>3.5</td>\n",
       "      <td>5.0</td>\n",
       "      <td>5</td>\n",
       "      <td>1.5</td>\n",
       "    </tr>\n",
       "    <tr>\n",
       "      <th>5</th>\n",
       "      <td>4.5</td>\n",
       "      <td>5.0</td>\n",
       "      <td>6</td>\n",
       "      <td>0.5</td>\n",
       "    </tr>\n",
       "    <tr>\n",
       "      <th>6</th>\n",
       "      <td>3.5</td>\n",
       "      <td>4.5</td>\n",
       "      <td>7</td>\n",
       "      <td>1.0</td>\n",
       "    </tr>\n",
       "  </tbody>\n",
       "</table>\n",
       "</div>"
      ],
      "text/plain": [
       "     A    B  subject  distance\n",
       "0  1.0  1.0        1       0.0\n",
       "1  1.5  2.0        2       0.5\n",
       "2  3.0  4.0        3       1.0\n",
       "3  5.0  7.0        4       2.0\n",
       "4  3.5  5.0        5       1.5\n",
       "5  4.5  5.0        6       0.5\n",
       "6  3.5  4.5        7       1.0"
      ]
     },
     "execution_count": 4,
     "metadata": {},
     "output_type": "execute_result"
    }
   ],
   "source": [
    "data[\"distance\"]=data[\"B\"]-data[\"A\"]\n",
    "\n",
    "data.head(7)"
   ]
  },
  {
   "cell_type": "markdown",
   "metadata": {},
   "source": [
    "We identified individuals/subject's 1 and 4 as being the furthest away from each other. These individuals will serve as our base clusters. We take thier respective A and B values as our \"mean vector centroid\". Don't worry about knowing what the means right now. We will go over the theory in more detail. "
   ]
  },
  {
   "cell_type": "code",
   "execution_count": 5,
   "metadata": {
    "collapsed": false
   },
   "outputs": [
    {
     "data": {
      "text/html": [
       "<div>\n",
       "<table border=\"1\" class=\"dataframe\">\n",
       "  <thead>\n",
       "    <tr style=\"text-align: right;\">\n",
       "      <th></th>\n",
       "      <th>cluster</th>\n",
       "      <th>individual</th>\n",
       "      <th>mean vector centroid</th>\n",
       "    </tr>\n",
       "  </thead>\n",
       "  <tbody>\n",
       "    <tr>\n",
       "      <th>0</th>\n",
       "      <td>cluster 1</td>\n",
       "      <td>1</td>\n",
       "      <td>(1.0, 1.0)</td>\n",
       "    </tr>\n",
       "    <tr>\n",
       "      <th>1</th>\n",
       "      <td>cluster 2</td>\n",
       "      <td>4</td>\n",
       "      <td>(5.0, 7.0)</td>\n",
       "    </tr>\n",
       "  </tbody>\n",
       "</table>\n",
       "</div>"
      ],
      "text/plain": [
       "     cluster  individual mean vector centroid\n",
       "0  cluster 1           1           (1.0, 1.0)\n",
       "1  cluster 2           4           (5.0, 7.0)"
      ]
     },
     "execution_count": 5,
     "metadata": {},
     "output_type": "execute_result"
    }
   ],
   "source": [
    "data2=pd.DataFrame({\"cluster\":[\"cluster 1\", \"cluster 2\"],\n",
    "                   \"individual\" : [1, 4],\n",
    "                  \"mean vector centroid\" : [\"(1.0, 1.0)\", \"(5.0, 7.0)\"]}) #Use a dictrionary type to define columns and entries\n",
    "\n",
    "data2.head()"
   ]
  },
  {
   "cell_type": "markdown",
   "metadata": {},
   "source": [
    "What do we do now? \n",
    "We should start thinking about how we can use the clusters we picked to start to create assginments for the other individuals/sujects in our data. In other words, we want to assign a cluster to the other people in our data. We need to sequantially examine the other individuals to allocate them to clusters. \n",
    "\n",
    "We start with trying to identify individuals whose distance are close to either individual 1 or individual 4. Lets take individual 2. If we eyeball individual 2, it looks they are closer to indivudal 1 than 4 in terms of distance. Therefore we can assign individual 2 to the cluster based off individual 1 (cluster 1). We then have to take the mean of the centroid to define a new mean vector centroid. Individual 1 has a vector (1.0, 1.0) and individual 2 has a vector (1.5, 2.0) , therefore the new mean vector centroid will be $(\\frac{1+1.5}{2}, \\frac{1.0+2.0}{2})=(1.2, 1.5)$ hence cluster 1 now consists of individual 1 and individual 2. We repeat the process for individuals 3, 5, 6, and 7. We check the distance of each individual to the mean centroid and assign that individual to the cluster based on that distance measure while recalculating the mean of vectors with every new assignment. "
   ]
  },
  {
   "cell_type": "code",
   "execution_count": 12,
   "metadata": {
    "collapsed": false
   },
   "outputs": [
    {
     "name": "stdout",
     "output_type": "stream",
     "text": [
      "Cluster 1 Assignments\n"
     ]
    },
    {
     "data": {
      "text/html": [
       "<div>\n",
       "<table border=\"1\" class=\"dataframe\">\n",
       "  <thead>\n",
       "    <tr style=\"text-align: right;\">\n",
       "      <th></th>\n",
       "      <th>individual</th>\n",
       "      <th>mean vector centroid</th>\n",
       "    </tr>\n",
       "  </thead>\n",
       "  <tbody>\n",
       "    <tr>\n",
       "      <th>0</th>\n",
       "      <td>1</td>\n",
       "      <td>(1.0, 1.0)</td>\n",
       "    </tr>\n",
       "    <tr>\n",
       "      <th>1</th>\n",
       "      <td>1, 2</td>\n",
       "      <td>(1.2, 1.5)</td>\n",
       "    </tr>\n",
       "    <tr>\n",
       "      <th>2</th>\n",
       "      <td>1,2,3</td>\n",
       "      <td>(1.8, 2.3)</td>\n",
       "    </tr>\n",
       "    <tr>\n",
       "      <th>3</th>\n",
       "      <td>1,2,3</td>\n",
       "      <td>(1.8, 2.3)</td>\n",
       "    </tr>\n",
       "    <tr>\n",
       "      <th>4</th>\n",
       "      <td>1,2,3</td>\n",
       "      <td>(1.8, 2.3)</td>\n",
       "    </tr>\n",
       "    <tr>\n",
       "      <th>5</th>\n",
       "      <td>1,2,3</td>\n",
       "      <td>(1.8, 2.3)</td>\n",
       "    </tr>\n",
       "  </tbody>\n",
       "</table>\n",
       "</div>"
      ],
      "text/plain": [
       "  individual mean vector centroid\n",
       "0          1           (1.0, 1.0)\n",
       "1       1, 2           (1.2, 1.5)\n",
       "2      1,2,3           (1.8, 2.3)\n",
       "3      1,2,3           (1.8, 2.3)\n",
       "4      1,2,3           (1.8, 2.3)\n",
       "5      1,2,3           (1.8, 2.3)"
      ]
     },
     "execution_count": 12,
     "metadata": {},
     "output_type": "execute_result"
    }
   ],
   "source": [
    "print(\"Cluster 1 Assignments\")\n",
    "\n",
    "data2=pd.DataFrame({\"individual\" : [\"1\", \"1, 2\", \"1,2,3\", \"1,2,3\",\"1,2,3\",\"1,2,3\"],\n",
    "                  \"mean vector centroid\" : [\"(1.0, 1.0)\", \"(1.2, 1.5)\", \"(1.8, 2.3)\",\"(1.8, 2.3)\",\"(1.8, 2.3)\",\"(1.8, 2.3)\"]}) #Use a dictrionary type to define columns and entries\n",
    "\n",
    "data2.head(7)"
   ]
  },
  {
   "cell_type": "code",
   "execution_count": 13,
   "metadata": {
    "collapsed": false
   },
   "outputs": [
    {
     "name": "stdout",
     "output_type": "stream",
     "text": [
      "Cluster 2 Assignments\n"
     ]
    },
    {
     "data": {
      "text/html": [
       "<div>\n",
       "<table border=\"1\" class=\"dataframe\">\n",
       "  <thead>\n",
       "    <tr style=\"text-align: right;\">\n",
       "      <th></th>\n",
       "      <th>individual</th>\n",
       "      <th>mean vector centroid</th>\n",
       "    </tr>\n",
       "  </thead>\n",
       "  <tbody>\n",
       "    <tr>\n",
       "      <th>0</th>\n",
       "      <td>4</td>\n",
       "      <td>(5.0, 7.0)</td>\n",
       "    </tr>\n",
       "    <tr>\n",
       "      <th>1</th>\n",
       "      <td>4</td>\n",
       "      <td>(5.0, 7.0)</td>\n",
       "    </tr>\n",
       "    <tr>\n",
       "      <th>2</th>\n",
       "      <td>4</td>\n",
       "      <td>(5.0, 7.0)</td>\n",
       "    </tr>\n",
       "    <tr>\n",
       "      <th>3</th>\n",
       "      <td>4,5</td>\n",
       "      <td>(4.2, 6.0)</td>\n",
       "    </tr>\n",
       "    <tr>\n",
       "      <th>4</th>\n",
       "      <td>4,5,6</td>\n",
       "      <td>(4.3, 5.7)</td>\n",
       "    </tr>\n",
       "    <tr>\n",
       "      <th>5</th>\n",
       "      <td>4,5,6,7</td>\n",
       "      <td>(4.1, 5.4)</td>\n",
       "    </tr>\n",
       "  </tbody>\n",
       "</table>\n",
       "</div>"
      ],
      "text/plain": [
       "  individual mean vector centroid\n",
       "0          4           (5.0, 7.0)\n",
       "1          4           (5.0, 7.0)\n",
       "2          4           (5.0, 7.0)\n",
       "3        4,5           (4.2, 6.0)\n",
       "4      4,5,6           (4.3, 5.7)\n",
       "5    4,5,6,7           (4.1, 5.4)"
      ]
     },
     "execution_count": 13,
     "metadata": {},
     "output_type": "execute_result"
    }
   ],
   "source": [
    "print(\"Cluster 2 Assignments\")\n",
    "\n",
    "data2=pd.DataFrame({\"individual\" : [\"4\", \"4\", \"4\", \"4,5\",\"4,5,6\", \"4,5,6,7\"],\n",
    "                  \"mean vector centroid\" : [\"(5.0, 7.0)\", \"(5.0, 7.0)\", \"(5.0, 7.0)\",\"(4.2, 6.0)\",\"(4.3, 5.7)\", \"(4.1, 5.4)\"]}) #Use a dictrionary type to define columns and entries\n",
    "\n",
    "data2.head(7)"
   ]
  },
  {
   "cell_type": "markdown",
   "metadata": {},
   "source": [
    "For each individual, we allocated them to a cluster based on closest distance to the cluster mean. Each time an individual was added to a cluster, the mean vector is re-calculated. Now that we went through each of the individuals, we can determine that we have two clusters with the following mean vector centroid. "
   ]
  },
  {
   "cell_type": "code",
   "execution_count": 14,
   "metadata": {
    "collapsed": false
   },
   "outputs": [
    {
     "data": {
      "text/html": [
       "<div>\n",
       "<table border=\"1\" class=\"dataframe\">\n",
       "  <thead>\n",
       "    <tr style=\"text-align: right;\">\n",
       "      <th></th>\n",
       "      <th>cluster</th>\n",
       "      <th>individual</th>\n",
       "      <th>mean vector centroid</th>\n",
       "    </tr>\n",
       "  </thead>\n",
       "  <tbody>\n",
       "    <tr>\n",
       "      <th>0</th>\n",
       "      <td>cluster 1</td>\n",
       "      <td>1, 2, 3</td>\n",
       "      <td>(1.8, 2.3)</td>\n",
       "    </tr>\n",
       "    <tr>\n",
       "      <th>1</th>\n",
       "      <td>cluster 2</td>\n",
       "      <td>4, 5, 6, 7</td>\n",
       "      <td>(4.1, 5.4)</td>\n",
       "    </tr>\n",
       "  </tbody>\n",
       "</table>\n",
       "</div>"
      ],
      "text/plain": [
       "     cluster  individual mean vector centroid\n",
       "0  cluster 1     1, 2, 3           (1.8, 2.3)\n",
       "1  cluster 2  4, 5, 6, 7           (4.1, 5.4)"
      ]
     },
     "execution_count": 14,
     "metadata": {},
     "output_type": "execute_result"
    }
   ],
   "source": [
    "data2=pd.DataFrame({\"cluster\":[\"cluster 1\", \"cluster 2\"],\n",
    "                   \"individual\" : [\"1, 2, 3\", \"4, 5, 6, 7\"],\n",
    "                  \"mean vector centroid\" : [\"(1.8, 2.3)\", \"(4.1, 5.4)\"]}) #Use a dictrionary type to define columns and entries\n",
    "\n",
    "data2.head()"
   ]
  },
  {
   "cell_type": "markdown",
   "metadata": {},
   "source": [
    "we can individually check the distances between each individual and the centroid vector of the cluster they were assigned to. "
   ]
  },
  {
   "cell_type": "code",
   "execution_count": 16,
   "metadata": {
    "collapsed": false
   },
   "outputs": [
    {
     "data": {
      "text/html": [
       "<div>\n",
       "<table border=\"1\" class=\"dataframe\">\n",
       "  <thead>\n",
       "    <tr style=\"text-align: right;\">\n",
       "      <th></th>\n",
       "      <th>Distance to mean Centroid of Cluster 1</th>\n",
       "      <th>Distance to mean Centroid of Cluster 2</th>\n",
       "      <th>individual</th>\n",
       "    </tr>\n",
       "  </thead>\n",
       "  <tbody>\n",
       "    <tr>\n",
       "      <th>0</th>\n",
       "      <td>1.5</td>\n",
       "      <td>5.4</td>\n",
       "      <td>1</td>\n",
       "    </tr>\n",
       "    <tr>\n",
       "      <th>1</th>\n",
       "      <td>0.4</td>\n",
       "      <td>4.3</td>\n",
       "      <td>2</td>\n",
       "    </tr>\n",
       "    <tr>\n",
       "      <th>2</th>\n",
       "      <td>2.1</td>\n",
       "      <td>1.8</td>\n",
       "      <td>3</td>\n",
       "    </tr>\n",
       "    <tr>\n",
       "      <th>3</th>\n",
       "      <td>5.7</td>\n",
       "      <td>1.8</td>\n",
       "      <td>4</td>\n",
       "    </tr>\n",
       "    <tr>\n",
       "      <th>4</th>\n",
       "      <td>3.2</td>\n",
       "      <td>0.7</td>\n",
       "      <td>5</td>\n",
       "    </tr>\n",
       "    <tr>\n",
       "      <th>5</th>\n",
       "      <td>3.8</td>\n",
       "      <td>0.6</td>\n",
       "      <td>6</td>\n",
       "    </tr>\n",
       "    <tr>\n",
       "      <th>6</th>\n",
       "      <td>2.8</td>\n",
       "      <td>1.1</td>\n",
       "      <td>7</td>\n",
       "    </tr>\n",
       "  </tbody>\n",
       "</table>\n",
       "</div>"
      ],
      "text/plain": [
       "   Distance to mean Centroid of Cluster 1  \\\n",
       "0                                     1.5   \n",
       "1                                     0.4   \n",
       "2                                     2.1   \n",
       "3                                     5.7   \n",
       "4                                     3.2   \n",
       "5                                     3.8   \n",
       "6                                     2.8   \n",
       "\n",
       "   Distance to mean Centroid of Cluster 2  individual  \n",
       "0                                     5.4           1  \n",
       "1                                     4.3           2  \n",
       "2                                     1.8           3  \n",
       "3                                     1.8           4  \n",
       "4                                     0.7           5  \n",
       "5                                     0.6           6  \n",
       "6                                     1.1           7  "
      ]
     },
     "execution_count": 16,
     "metadata": {},
     "output_type": "execute_result"
    }
   ],
   "source": [
    "data2=pd.DataFrame({\"individual\":[1, 2, 3, 4, 5, 6, 7],\n",
    "                   \"Distance to mean Centroid of Cluster 1\" : [1.5, 0.4, 2.1, 5.7, 3.2, 3.8, 2.8],\n",
    "                  \"Distance to mean Centroid of Cluster 2\" : [5.4, 4.3, 1.8, 1.8, 0.7, 0.6, 1.1]}) #Use a dictrionary type to define columns and entries\n",
    "\n",
    "data2.head(7)"
   ]
  },
  {
   "cell_type": "markdown",
   "metadata": {},
   "source": [
    "It seems for the most part, we assigned individuals to the right clusters with the exception of individual 3. Individual 3 was placed in cluster 1 but it is actually closer in distance to the mean vector centroid of cluster 2. We can account for this change and place individual 3 in cluster 2 and re-calculate thee mean vector centroid. "
   ]
  },
  {
   "cell_type": "code",
   "execution_count": 17,
   "metadata": {
    "collapsed": false
   },
   "outputs": [
    {
     "data": {
      "text/html": [
       "<div>\n",
       "<table border=\"1\" class=\"dataframe\">\n",
       "  <thead>\n",
       "    <tr style=\"text-align: right;\">\n",
       "      <th></th>\n",
       "      <th>cluster</th>\n",
       "      <th>individual</th>\n",
       "      <th>mean vector centroid</th>\n",
       "    </tr>\n",
       "  </thead>\n",
       "  <tbody>\n",
       "    <tr>\n",
       "      <th>0</th>\n",
       "      <td>cluster 1</td>\n",
       "      <td>1, 2</td>\n",
       "      <td>(1.3, 1.5)</td>\n",
       "    </tr>\n",
       "    <tr>\n",
       "      <th>1</th>\n",
       "      <td>cluster 2</td>\n",
       "      <td>3, 4, 5, 6, 7</td>\n",
       "      <td>(3.9, 5.1)</td>\n",
       "    </tr>\n",
       "  </tbody>\n",
       "</table>\n",
       "</div>"
      ],
      "text/plain": [
       "     cluster     individual mean vector centroid\n",
       "0  cluster 1           1, 2           (1.3, 1.5)\n",
       "1  cluster 2  3, 4, 5, 6, 7           (3.9, 5.1)"
      ]
     },
     "execution_count": 17,
     "metadata": {},
     "output_type": "execute_result"
    }
   ],
   "source": [
    "data2=pd.DataFrame({\"cluster\":[\"cluster 1\", \"cluster 2\"],\n",
    "                   \"individual\" : [\"1, 2\", \"3, 4, 5, 6, 7\"],\n",
    "                  \"mean vector centroid\" : [\"(1.3, 1.5)\", \"(3.9, 5.1)\"]}) #Use a dictrionary type to define columns and entries\n",
    "\n",
    "data2.head()"
   ]
  },
  {
   "cell_type": "markdown",
   "metadata": {},
   "source": [
    "At this point, we would repeat the process and form new partitions until there are no longer any possible relocations. It is possible that we can do this process endlessly and not be totally satisfied with the assignments but in our simple case, our assignments should be pretty good. Now don't be alarmed if this example was difficult to follow. There was a lot of hand waving but in the end, this process is essentially how clustering works. Lets examine clustering conceptually. (Original example (http://mnemstudio.org/clustering-k-means-example-1.htm)"
   ]
  },
  {
   "cell_type": "markdown",
   "metadata": {},
   "source": [
    "## What is clustering? \n",
    "\n",
    "* Clustering is an analytical method under the unsupervised learning umbrella \n",
    "\n",
    "* Unsupervised learning is typically a grouping analysis performed on data without a class label (ex. trying to group transaction data into shopping habits) \n",
    "\n",
    "* supervised learning is analysis performed on data WITH  a class label (ex. given potential subscribers to some service, we have a label that identifies individuals as subscribed or not subscribed) \n",
    "\n",
    "* clustering tries to group data into categories based on the nature of features \n",
    "\n",
    "* Grouping structure is decided automatically \n",
    "\n",
    "## Why do we do Clustering? \n",
    "\n",
    "* Assigning a label to large data is costly \n",
    "\n",
    "* The data contents may not be known to its fullest extent \n",
    "\n",
    "* clustering can identify features that are significant for future classification problems \n",
    "\n",
    "* clustering allows one to examine the nature of the data \n",
    "\n",
    "* clustering can uncover subclasses and additional similarities among subclasses \n",
    "\n",
    "## Clustering Type\n",
    "\n",
    "* Hard Clustering - Each data point falls into a cluster completely or not\n",
    "\n",
    "* soft clustering - Each data point is assigned a probability or likelihood of that data point belonging to some cluster \n",
    "\n",
    "There are numerous algorithms that fall within the clustering analysis umbrella, each with their own unique applications. The handwaving example we looked at in the start of the session was a type of clustering called k means. K means clustering is the most commonly used clustering method. Lets take a deeper dive into k means. (https://www.analyticsvidhya.com/blog/2016/11/an-introduction-to-clustering-and-different-methods-of-clustering/\n",
    "\n",
    "## K Means Clustering \n",
    "\n",
    "K means clustering is an iterative approach that splits some data set into pre defined non overlapping clusters. Each data point belongs exactly to one cluster while trying preserve inter cluster data points such that data points are as similar as possible. This is what we did in our initial example by using distances. The purpose of finding similar is to keep clusters as far away from each other. Individual data points are assigned to clusters based of the sum of the squared distance between data points and the mean vector centroid. We ideally want this distance to be as smallest as possilbe for cluster assignment. A desirable outcome is if all data points assigned to clusters are homogenous and have the smallest possible distance between them and the centroid of their assigned cluster. \n",
    "\n",
    "Now that we have some more context about the mechanics behind clustering, we can work on another example where we do the calculations ourselves. Lets say we have a dataset of students with their test scores. "
   ]
  },
  {
   "cell_type": "code",
   "execution_count": 26,
   "metadata": {
    "collapsed": false
   },
   "outputs": [
    {
     "data": {
      "text/html": [
       "<div>\n",
       "<table border=\"1\" class=\"dataframe\">\n",
       "  <thead>\n",
       "    <tr style=\"text-align: right;\">\n",
       "      <th></th>\n",
       "      <th>individual</th>\n",
       "      <th>score</th>\n",
       "    </tr>\n",
       "  </thead>\n",
       "  <tbody>\n",
       "    <tr>\n",
       "      <th>0</th>\n",
       "      <td>A</td>\n",
       "      <td>5</td>\n",
       "    </tr>\n",
       "    <tr>\n",
       "      <th>1</th>\n",
       "      <td>B</td>\n",
       "      <td>20</td>\n",
       "    </tr>\n",
       "    <tr>\n",
       "      <th>2</th>\n",
       "      <td>C</td>\n",
       "      <td>11</td>\n",
       "    </tr>\n",
       "    <tr>\n",
       "      <th>3</th>\n",
       "      <td>D</td>\n",
       "      <td>5</td>\n",
       "    </tr>\n",
       "    <tr>\n",
       "      <th>4</th>\n",
       "      <td>E</td>\n",
       "      <td>3</td>\n",
       "    </tr>\n",
       "    <tr>\n",
       "      <th>5</th>\n",
       "      <td>F</td>\n",
       "      <td>19</td>\n",
       "    </tr>\n",
       "    <tr>\n",
       "      <th>6</th>\n",
       "      <td>G</td>\n",
       "      <td>30</td>\n",
       "    </tr>\n",
       "    <tr>\n",
       "      <th>7</th>\n",
       "      <td>H</td>\n",
       "      <td>3</td>\n",
       "    </tr>\n",
       "    <tr>\n",
       "      <th>8</th>\n",
       "      <td>I</td>\n",
       "      <td>15</td>\n",
       "    </tr>\n",
       "  </tbody>\n",
       "</table>\n",
       "</div>"
      ],
      "text/plain": [
       "  individual  score\n",
       "0          A      5\n",
       "1          B     20\n",
       "2          C     11\n",
       "3          D      5\n",
       "4          E      3\n",
       "5          F     19\n",
       "6          G     30\n",
       "7          H      3\n",
       "8          I     15"
      ]
     },
     "execution_count": 26,
     "metadata": {},
     "output_type": "execute_result"
    }
   ],
   "source": [
    "data2=pd.DataFrame({\"individual\":[\"A\",\"B\" , \"C\", \"D\", \"E\", \"F\", \"G\", \"H\", \"I\"],\n",
    "                   \"score\" : [5, 20, 11, 5, 3, 19, 30, 3, 15]}) #Use a dictrionary type to define columns and entries\n",
    "\n",
    "data2.head(10)"
   ]
  },
  {
   "cell_type": "markdown",
   "metadata": {},
   "source": [
    "### Step 1: Split students into k clsuters at random \n",
    "\n",
    "Since there are 9 students lets pick three clusters to assign students at random and compute the mean of each group. "
   ]
  },
  {
   "cell_type": "code",
   "execution_count": 5,
   "metadata": {
    "collapsed": false
   },
   "outputs": [
    {
     "name": "stdout",
     "output_type": "stream",
     "text": [
      "Group 1\n",
      "Group 1 Mean Score= 12 \n"
     ]
    },
    {
     "data": {
      "text/html": [
       "<div>\n",
       "<table border=\"1\" class=\"dataframe\">\n",
       "  <thead>\n",
       "    <tr style=\"text-align: right;\">\n",
       "      <th></th>\n",
       "      <th>individual</th>\n",
       "      <th>score</th>\n",
       "    </tr>\n",
       "  </thead>\n",
       "  <tbody>\n",
       "    <tr>\n",
       "      <th>0</th>\n",
       "      <td>A</td>\n",
       "      <td>5</td>\n",
       "    </tr>\n",
       "    <tr>\n",
       "      <th>1</th>\n",
       "      <td>B</td>\n",
       "      <td>20</td>\n",
       "    </tr>\n",
       "    <tr>\n",
       "      <th>2</th>\n",
       "      <td>C</td>\n",
       "      <td>11</td>\n",
       "    </tr>\n",
       "  </tbody>\n",
       "</table>\n",
       "</div>"
      ],
      "text/plain": [
       "  individual  score\n",
       "0          A      5\n",
       "1          B     20\n",
       "2          C     11"
      ]
     },
     "execution_count": 5,
     "metadata": {},
     "output_type": "execute_result"
    }
   ],
   "source": [
    "print(\"Group 1\")\n",
    "\n",
    "g1=pd.DataFrame({\"individual\":[\"A\", \"B\", \"C\"],\n",
    "                   \"score\" : [5, 20, 11]}) #Use a dictrionary type to define columns and entries\n",
    "\n",
    "print(\"Group 1 Mean Score= 12 \")\n",
    "\n",
    "g1"
   ]
  },
  {
   "cell_type": "code",
   "execution_count": 6,
   "metadata": {
    "collapsed": false
   },
   "outputs": [
    {
     "name": "stdout",
     "output_type": "stream",
     "text": [
      "Group 2\n",
      "Group 2 Mean Score= 9 \n"
     ]
    },
    {
     "data": {
      "text/html": [
       "<div>\n",
       "<table border=\"1\" class=\"dataframe\">\n",
       "  <thead>\n",
       "    <tr style=\"text-align: right;\">\n",
       "      <th></th>\n",
       "      <th>individual</th>\n",
       "      <th>score</th>\n",
       "    </tr>\n",
       "  </thead>\n",
       "  <tbody>\n",
       "    <tr>\n",
       "      <th>0</th>\n",
       "      <td>D</td>\n",
       "      <td>5</td>\n",
       "    </tr>\n",
       "    <tr>\n",
       "      <th>1</th>\n",
       "      <td>E</td>\n",
       "      <td>3</td>\n",
       "    </tr>\n",
       "    <tr>\n",
       "      <th>2</th>\n",
       "      <td>F</td>\n",
       "      <td>19</td>\n",
       "    </tr>\n",
       "  </tbody>\n",
       "</table>\n",
       "</div>"
      ],
      "text/plain": [
       "  individual  score\n",
       "0          D      5\n",
       "1          E      3\n",
       "2          F     19"
      ]
     },
     "execution_count": 6,
     "metadata": {},
     "output_type": "execute_result"
    }
   ],
   "source": [
    "print(\"Group 2\")\n",
    "\n",
    "g2=pd.DataFrame({\"individual\":[\"D\", \"E\", \"F\"],\n",
    "                   \"score\" : [5, 3, 19]}) #Use a dictrionary type to define columns and entries\n",
    "\n",
    "print(\"Group 2 Mean Score= 9 \")\n",
    "\n",
    "g2"
   ]
  },
  {
   "cell_type": "code",
   "execution_count": 7,
   "metadata": {
    "collapsed": false
   },
   "outputs": [
    {
     "name": "stdout",
     "output_type": "stream",
     "text": [
      "Group 3\n",
      "Group 3 Mean Score= 16 \n"
     ]
    },
    {
     "data": {
      "text/html": [
       "<div>\n",
       "<table border=\"1\" class=\"dataframe\">\n",
       "  <thead>\n",
       "    <tr style=\"text-align: right;\">\n",
       "      <th></th>\n",
       "      <th>individual</th>\n",
       "      <th>score</th>\n",
       "    </tr>\n",
       "  </thead>\n",
       "  <tbody>\n",
       "    <tr>\n",
       "      <th>0</th>\n",
       "      <td>G</td>\n",
       "      <td>30</td>\n",
       "    </tr>\n",
       "    <tr>\n",
       "      <th>1</th>\n",
       "      <td>H</td>\n",
       "      <td>3</td>\n",
       "    </tr>\n",
       "    <tr>\n",
       "      <th>2</th>\n",
       "      <td>I</td>\n",
       "      <td>15</td>\n",
       "    </tr>\n",
       "  </tbody>\n",
       "</table>\n",
       "</div>"
      ],
      "text/plain": [
       "  individual  score\n",
       "0          G     30\n",
       "1          H      3\n",
       "2          I     15"
      ]
     },
     "execution_count": 7,
     "metadata": {},
     "output_type": "execute_result"
    }
   ],
   "source": [
    "print(\"Group 3\")\n",
    "\n",
    "g3=pd.DataFrame({\"individual\":[\"G\", \"H\", \"I\"],\n",
    "                   \"score\" : [30, 3, 15]}) #Use a dictrionary type to define columns and entries\n",
    "\n",
    "print(\"Group 3 Mean Score= 16 \")\n",
    "\n",
    "g3"
   ]
  },
  {
   "cell_type": "markdown",
   "metadata": {},
   "source": [
    "### Step 2: Reassign each student into a group with the closest mean\n",
    "\n",
    "In our case, we want to reassign individual 1 to group 2.The score for individual one is closest to the mean centroid in group 2. "
   ]
  },
  {
   "cell_type": "code",
   "execution_count": 13,
   "metadata": {
    "collapsed": false
   },
   "outputs": [
    {
     "name": "stdout",
     "output_type": "stream",
     "text": [
      "New Group 1\n",
      "New Group 1 Mean Score= 11 \n"
     ]
    },
    {
     "data": {
      "text/html": [
       "<div>\n",
       "<table border=\"1\" class=\"dataframe\">\n",
       "  <thead>\n",
       "    <tr style=\"text-align: right;\">\n",
       "      <th></th>\n",
       "      <th>individual</th>\n",
       "      <th>score</th>\n",
       "    </tr>\n",
       "  </thead>\n",
       "  <tbody>\n",
       "    <tr>\n",
       "      <th>0</th>\n",
       "      <td>C</td>\n",
       "      <td>11</td>\n",
       "    </tr>\n",
       "  </tbody>\n",
       "</table>\n",
       "</div>"
      ],
      "text/plain": [
       "  individual  score\n",
       "0          C     11"
      ]
     },
     "execution_count": 13,
     "metadata": {},
     "output_type": "execute_result"
    }
   ],
   "source": [
    "print(\"New Group 1\")\n",
    "\n",
    "g1=pd.DataFrame({\"individual\":[\"C\"],\n",
    "                   \"score\" : [11]}) #Use a dictrionary type to define columns and entries\n",
    "\n",
    "print(\"New Group 1 Mean Score= 11 \")\n",
    "\n",
    "g1"
   ]
  },
  {
   "cell_type": "code",
   "execution_count": 14,
   "metadata": {
    "collapsed": false
   },
   "outputs": [
    {
     "name": "stdout",
     "output_type": "stream",
     "text": [
      "New Group 2\n",
      "New Group 2 Mean Score= 4 \n"
     ]
    },
    {
     "data": {
      "text/html": [
       "<div>\n",
       "<table border=\"1\" class=\"dataframe\">\n",
       "  <thead>\n",
       "    <tr style=\"text-align: right;\">\n",
       "      <th></th>\n",
       "      <th>individual</th>\n",
       "      <th>score</th>\n",
       "    </tr>\n",
       "  </thead>\n",
       "  <tbody>\n",
       "    <tr>\n",
       "      <th>0</th>\n",
       "      <td>A</td>\n",
       "      <td>5</td>\n",
       "    </tr>\n",
       "    <tr>\n",
       "      <th>1</th>\n",
       "      <td>D</td>\n",
       "      <td>5</td>\n",
       "    </tr>\n",
       "    <tr>\n",
       "      <th>2</th>\n",
       "      <td>E</td>\n",
       "      <td>3</td>\n",
       "    </tr>\n",
       "    <tr>\n",
       "      <th>3</th>\n",
       "      <td>H</td>\n",
       "      <td>3</td>\n",
       "    </tr>\n",
       "  </tbody>\n",
       "</table>\n",
       "</div>"
      ],
      "text/plain": [
       "  individual  score\n",
       "0          A      5\n",
       "1          D      5\n",
       "2          E      3\n",
       "3          H      3"
      ]
     },
     "execution_count": 14,
     "metadata": {},
     "output_type": "execute_result"
    }
   ],
   "source": [
    "print(\"New Group 2\")\n",
    "\n",
    "g2=pd.DataFrame({\"individual\":[\"A\", \"D\", \"E\", \"H\"],\n",
    "                   \"score\" : [5, 5, 3, 3]}) #Use a dictrionary type to define columns and entries\n",
    "\n",
    "print(\"New Group 2 Mean Score= 4 \")\n",
    "\n",
    "g2"
   ]
  },
  {
   "cell_type": "code",
   "execution_count": 15,
   "metadata": {
    "collapsed": false
   },
   "outputs": [
    {
     "name": "stdout",
     "output_type": "stream",
     "text": [
      "New Group 3\n",
      "New Group 3 Mean Score= 16 \n"
     ]
    },
    {
     "data": {
      "text/html": [
       "<div>\n",
       "<table border=\"1\" class=\"dataframe\">\n",
       "  <thead>\n",
       "    <tr style=\"text-align: right;\">\n",
       "      <th></th>\n",
       "      <th>individual</th>\n",
       "      <th>score</th>\n",
       "    </tr>\n",
       "  </thead>\n",
       "  <tbody>\n",
       "    <tr>\n",
       "      <th>0</th>\n",
       "      <td>G</td>\n",
       "      <td>30</td>\n",
       "    </tr>\n",
       "    <tr>\n",
       "      <th>1</th>\n",
       "      <td>I</td>\n",
       "      <td>15</td>\n",
       "    </tr>\n",
       "    <tr>\n",
       "      <th>2</th>\n",
       "      <td>B</td>\n",
       "      <td>20</td>\n",
       "    </tr>\n",
       "    <tr>\n",
       "      <th>3</th>\n",
       "      <td>F</td>\n",
       "      <td>19</td>\n",
       "    </tr>\n",
       "  </tbody>\n",
       "</table>\n",
       "</div>"
      ],
      "text/plain": [
       "  individual  score\n",
       "0          G     30\n",
       "1          I     15\n",
       "2          B     20\n",
       "3          F     19"
      ]
     },
     "execution_count": 15,
     "metadata": {},
     "output_type": "execute_result"
    }
   ],
   "source": [
    "print(\"New Group 3\")\n",
    "\n",
    "g3=pd.DataFrame({\"individual\":[\"G\", \"I\", \"B\", \"F\"],\n",
    "                   \"score\" : [30, 15, 20, 19]}) #Use a dictrionary type to define columns and entries\n",
    "\n",
    "print(\"New Group 3 Mean Score= 16 \")\n",
    "\n",
    "g3"
   ]
  },
  {
   "cell_type": "markdown",
   "metadata": {},
   "source": [
    "### Step 3: Repeat Step 2 until the group mean no longer changes"
   ]
  },
  {
   "cell_type": "code",
   "execution_count": 16,
   "metadata": {
    "collapsed": false
   },
   "outputs": [
    {
     "name": "stdout",
     "output_type": "stream",
     "text": [
      "New New Group 1\n",
      "New New Group 1 Mean Score= 13 \n"
     ]
    },
    {
     "data": {
      "text/html": [
       "<div>\n",
       "<table border=\"1\" class=\"dataframe\">\n",
       "  <thead>\n",
       "    <tr style=\"text-align: right;\">\n",
       "      <th></th>\n",
       "      <th>individual</th>\n",
       "      <th>score</th>\n",
       "    </tr>\n",
       "  </thead>\n",
       "  <tbody>\n",
       "    <tr>\n",
       "      <th>0</th>\n",
       "      <td>C</td>\n",
       "      <td>11</td>\n",
       "    </tr>\n",
       "    <tr>\n",
       "      <th>1</th>\n",
       "      <td>I</td>\n",
       "      <td>15</td>\n",
       "    </tr>\n",
       "  </tbody>\n",
       "</table>\n",
       "</div>"
      ],
      "text/plain": [
       "  individual  score\n",
       "0          C     11\n",
       "1          I     15"
      ]
     },
     "execution_count": 16,
     "metadata": {},
     "output_type": "execute_result"
    }
   ],
   "source": [
    "print(\"New New Group 1\")\n",
    "\n",
    "g1=pd.DataFrame({\"individual\":[\"C\", \"I\"],\n",
    "                   \"score\" : [11, 15]}) #Use a dictrionary type to define columns and entries\n",
    "\n",
    "print(\"New New Group 1 Mean Score= 13 \")\n",
    "\n",
    "g1"
   ]
  },
  {
   "cell_type": "code",
   "execution_count": 17,
   "metadata": {
    "collapsed": false
   },
   "outputs": [
    {
     "name": "stdout",
     "output_type": "stream",
     "text": [
      "New New Group 2\n",
      "New New Group 2 Mean Score= 4 \n"
     ]
    },
    {
     "data": {
      "text/html": [
       "<div>\n",
       "<table border=\"1\" class=\"dataframe\">\n",
       "  <thead>\n",
       "    <tr style=\"text-align: right;\">\n",
       "      <th></th>\n",
       "      <th>individual</th>\n",
       "      <th>score</th>\n",
       "    </tr>\n",
       "  </thead>\n",
       "  <tbody>\n",
       "    <tr>\n",
       "      <th>0</th>\n",
       "      <td>A</td>\n",
       "      <td>5</td>\n",
       "    </tr>\n",
       "    <tr>\n",
       "      <th>1</th>\n",
       "      <td>D</td>\n",
       "      <td>5</td>\n",
       "    </tr>\n",
       "    <tr>\n",
       "      <th>2</th>\n",
       "      <td>E</td>\n",
       "      <td>3</td>\n",
       "    </tr>\n",
       "    <tr>\n",
       "      <th>3</th>\n",
       "      <td>H</td>\n",
       "      <td>3</td>\n",
       "    </tr>\n",
       "  </tbody>\n",
       "</table>\n",
       "</div>"
      ],
      "text/plain": [
       "  individual  score\n",
       "0          A      5\n",
       "1          D      5\n",
       "2          E      3\n",
       "3          H      3"
      ]
     },
     "execution_count": 17,
     "metadata": {},
     "output_type": "execute_result"
    }
   ],
   "source": [
    "print(\"New New Group 2\")\n",
    "\n",
    "g2=pd.DataFrame({\"individual\":[\"A\", \"D\", \"E\", \"H\"],\n",
    "                   \"score\" : [5, 5, 3, 3]}) #Use a dictrionary type to define columns and entries\n",
    "\n",
    "print(\"New New Group 2 Mean Score= 4 \")\n",
    "\n",
    "g2"
   ]
  },
  {
   "cell_type": "code",
   "execution_count": 18,
   "metadata": {
    "collapsed": false
   },
   "outputs": [
    {
     "name": "stdout",
     "output_type": "stream",
     "text": [
      "New new Group 3\n",
      "New New Group 3 Mean Score= 23 \n"
     ]
    },
    {
     "data": {
      "text/html": [
       "<div>\n",
       "<table border=\"1\" class=\"dataframe\">\n",
       "  <thead>\n",
       "    <tr style=\"text-align: right;\">\n",
       "      <th></th>\n",
       "      <th>individual</th>\n",
       "      <th>score</th>\n",
       "    </tr>\n",
       "  </thead>\n",
       "  <tbody>\n",
       "    <tr>\n",
       "      <th>0</th>\n",
       "      <td>G</td>\n",
       "      <td>30</td>\n",
       "    </tr>\n",
       "    <tr>\n",
       "      <th>1</th>\n",
       "      <td>B</td>\n",
       "      <td>20</td>\n",
       "    </tr>\n",
       "    <tr>\n",
       "      <th>2</th>\n",
       "      <td>F</td>\n",
       "      <td>19</td>\n",
       "    </tr>\n",
       "  </tbody>\n",
       "</table>\n",
       "</div>"
      ],
      "text/plain": [
       "  individual  score\n",
       "0          G     30\n",
       "1          B     20\n",
       "2          F     19"
      ]
     },
     "execution_count": 18,
     "metadata": {},
     "output_type": "execute_result"
    }
   ],
   "source": [
    "print(\"New new Group 3\")\n",
    "\n",
    "g3=pd.DataFrame({\"individual\":[\"G\", \"B\", \"F\"],\n",
    "                   \"score\" : [30, 20, 19]}) #Use a dictrionary type to define columns and entries\n",
    "\n",
    "print(\"New New Group 3 Mean Score= 23 \")\n",
    "\n",
    "g3"
   ]
  },
  {
   "cell_type": "markdown",
   "metadata": {},
   "source": [
    "## Summary \n",
    "\n",
    "We introduced the idea of clustering through examples which highlighted the iteration required to perform basic clustering. Lets summarize our basic k means clustering. \n",
    "\n",
    "* Choose a random number of groups (clusters) k \n",
    "\n",
    "* randomly assign data points to a cluster and find the mean centroid \n",
    "\n",
    "* compute the sum squared distance between data points and centroids \n",
    "\n",
    "* assign data points to the closest clusters \n",
    "\n",
    "* recalculate the new centroid mean \n",
    "\n",
    "* repeat until desirable clusters achieved or max interation in place "
   ]
  },
  {
   "cell_type": "markdown",
   "metadata": {},
   "source": [
    "## For Next Time...\n",
    "\n",
    "We will look at an example on how to do k means in SQL. "
   ]
  },
  {
   "cell_type": "markdown",
   "metadata": {
    "collapsed": true
   },
   "source": [
    "## Homework \n",
    "\n",
    "Using a pen and paper, perform k means on the dataset below following the steps shown in the summary. Iterate at most two times. Recall that clusters do not have to have the same number of data points. "
   ]
  },
  {
   "cell_type": "code",
   "execution_count": 4,
   "metadata": {
    "collapsed": false
   },
   "outputs": [
    {
     "data": {
      "text/html": [
       "<div>\n",
       "<table border=\"1\" class=\"dataframe\">\n",
       "  <thead>\n",
       "    <tr style=\"text-align: right;\">\n",
       "      <th></th>\n",
       "      <th>individual</th>\n",
       "      <th>score</th>\n",
       "    </tr>\n",
       "  </thead>\n",
       "  <tbody>\n",
       "    <tr>\n",
       "      <th>0</th>\n",
       "      <td>A</td>\n",
       "      <td>1</td>\n",
       "    </tr>\n",
       "    <tr>\n",
       "      <th>1</th>\n",
       "      <td>B</td>\n",
       "      <td>4</td>\n",
       "    </tr>\n",
       "    <tr>\n",
       "      <th>2</th>\n",
       "      <td>C</td>\n",
       "      <td>11</td>\n",
       "    </tr>\n",
       "    <tr>\n",
       "      <th>3</th>\n",
       "      <td>D</td>\n",
       "      <td>5</td>\n",
       "    </tr>\n",
       "    <tr>\n",
       "      <th>4</th>\n",
       "      <td>E</td>\n",
       "      <td>2</td>\n",
       "    </tr>\n",
       "    <tr>\n",
       "      <th>5</th>\n",
       "      <td>F</td>\n",
       "      <td>18</td>\n",
       "    </tr>\n",
       "    <tr>\n",
       "      <th>6</th>\n",
       "      <td>G</td>\n",
       "      <td>12</td>\n",
       "    </tr>\n",
       "    <tr>\n",
       "      <th>7</th>\n",
       "      <td>H</td>\n",
       "      <td>3</td>\n",
       "    </tr>\n",
       "  </tbody>\n",
       "</table>\n",
       "</div>"
      ],
      "text/plain": [
       "  individual  score\n",
       "0          A      1\n",
       "1          B      4\n",
       "2          C     11\n",
       "3          D      5\n",
       "4          E      2\n",
       "5          F     18\n",
       "6          G     12\n",
       "7          H      3"
      ]
     },
     "execution_count": 4,
     "metadata": {},
     "output_type": "execute_result"
    }
   ],
   "source": [
    "data2=pd.DataFrame({\"individual\":[\"A\",\"B\" , \"C\", \"D\", \"E\", \"F\", \"G\", \"H\"],\n",
    "                   \"score\" : [1, 4, 11, 5, 2, 18, 12, 3]}) #Use a dictrionary type to define columns and entries\n",
    "\n",
    "data2.head(10)"
   ]
  },
  {
   "cell_type": "code",
   "execution_count": null,
   "metadata": {
    "collapsed": true
   },
   "outputs": [],
   "source": []
  }
 ],
 "metadata": {
  "kernelspec": {
   "display_name": "Python 3",
   "language": "python",
   "name": "python3"
  },
  "language_info": {
   "codemirror_mode": {
    "name": "ipython",
    "version": 3
   },
   "file_extension": ".py",
   "mimetype": "text/x-python",
   "name": "python",
   "nbconvert_exporter": "python",
   "pygments_lexer": "ipython3",
   "version": "3.5.1"
  }
 },
 "nbformat": 4,
 "nbformat_minor": 0
}
