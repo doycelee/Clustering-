{
 "cells": [
  {
   "cell_type": "markdown",
   "metadata": {},
   "source": [
    "## Introduction to Python, Session 3 \n",
    "\n",
    "In our last section, we started to work with loops and some of the operations that comes with loops. In this session, we will extend our conversation and look at some more applied applications using some real world data. This is a generalized view of a typicl analytical workflow. \n",
    "\n",
    "We will be following a tutorial that goes through k means by hand using loops along with simple visualization of our clustering. Links will be referenced in the bottom. I added some additional elements to the tutorial and broke it up into smaller bite sized sections to make it easier to understand. \n",
    "\n",
    "We will be using the mall customer dataset in our examples. This dataset is obtainable through kaggle,however we will be reading the csv directly in from a github location where the data is hosted. https://www.kaggle.com/shwetabh123/mall-customers\n",
    "\n",
    "We will be using Pandas to read in the data. We will be doing a more in depth lesson on Pandas since knowledge of library is mandatory for any analytical workflow in python. "
   ]
  },
  {
   "cell_type": "code",
   "execution_count": 1,
   "metadata": {},
   "outputs": [],
   "source": [
    "import pandas as pd #Data manipulation library\n",
    "\n",
    "import numpy as np #high level mathematical operations library \n",
    "\n",
    "import matplotlib.pyplot as plt #visualization library \n",
    "\n",
    "import seaborn as sns #analytical visualization library "
   ]
  },
  {
   "cell_type": "code",
   "execution_count": 2,
   "metadata": {},
   "outputs": [
    {
     "data": {
      "text/html": [
       "<div>\n",
       "<style scoped>\n",
       "    .dataframe tbody tr th:only-of-type {\n",
       "        vertical-align: middle;\n",
       "    }\n",
       "\n",
       "    .dataframe tbody tr th {\n",
       "        vertical-align: top;\n",
       "    }\n",
       "\n",
       "    .dataframe thead th {\n",
       "        text-align: right;\n",
       "    }\n",
       "</style>\n",
       "<table border=\"1\" class=\"dataframe\">\n",
       "  <thead>\n",
       "    <tr style=\"text-align: right;\">\n",
       "      <th></th>\n",
       "      <th>CustomerID</th>\n",
       "      <th>Gender</th>\n",
       "      <th>Age</th>\n",
       "      <th>Annual Income (k$)</th>\n",
       "      <th>Spending Score (1-100)</th>\n",
       "    </tr>\n",
       "  </thead>\n",
       "  <tbody>\n",
       "    <tr>\n",
       "      <th>0</th>\n",
       "      <td>1</td>\n",
       "      <td>Male</td>\n",
       "      <td>19</td>\n",
       "      <td>15</td>\n",
       "      <td>39</td>\n",
       "    </tr>\n",
       "    <tr>\n",
       "      <th>1</th>\n",
       "      <td>2</td>\n",
       "      <td>Male</td>\n",
       "      <td>21</td>\n",
       "      <td>15</td>\n",
       "      <td>81</td>\n",
       "    </tr>\n",
       "    <tr>\n",
       "      <th>2</th>\n",
       "      <td>3</td>\n",
       "      <td>Female</td>\n",
       "      <td>20</td>\n",
       "      <td>16</td>\n",
       "      <td>6</td>\n",
       "    </tr>\n",
       "    <tr>\n",
       "      <th>3</th>\n",
       "      <td>4</td>\n",
       "      <td>Female</td>\n",
       "      <td>23</td>\n",
       "      <td>16</td>\n",
       "      <td>77</td>\n",
       "    </tr>\n",
       "    <tr>\n",
       "      <th>4</th>\n",
       "      <td>5</td>\n",
       "      <td>Female</td>\n",
       "      <td>31</td>\n",
       "      <td>17</td>\n",
       "      <td>40</td>\n",
       "    </tr>\n",
       "  </tbody>\n",
       "</table>\n",
       "</div>"
      ],
      "text/plain": [
       "  CustomerID  Gender  Age  Annual Income (k$)  Spending Score (1-100)\n",
       "0          1    Male   19                  15                      39\n",
       "1          2    Male   21                  15                      81\n",
       "2          3  Female   20                  16                       6\n",
       "3          4  Female   23                  16                      77\n",
       "4          5  Female   31                  17                      40"
      ]
     },
     "execution_count": 2,
     "metadata": {},
     "output_type": "execute_result"
    }
   ],
   "source": [
    "url = 'https://raw.githubusercontent.com/DACUS1995/BIRCH-Mall-Customers-clustering/master/Mall_Customers.csv'\n",
    "\n",
    "df = pd.read_csv(url,parse_dates=[0])\n",
    "\n",
    "df.head(5)"
   ]
  },
  {
   "cell_type": "markdown",
   "metadata": {},
   "source": [
    "When exposed to any new dataset, a best practice is to view the first few rows of the data and understand what each row and column means. We can use the head function with the parameter 5 to inspect the first 5 rows of our dataset. Right off the bat, I notice there is a column called \"CustomerId.\" By defition, we know that this column is our primary key. Since it is a primary key, we know that each value in customer ID must be unique and non empty. This means each row pertains to a different customer, hence the other columns must be features associated with each customer. We are given customer features Gender, Age, Annual Income, and Spending Score. \n",
    "\n",
    "Our next step should be to identify the type of variable we are given. This will drive the analysis we can do on this dataset. Gender is a categorical variable with at most two entries. Age, Income, and Spending Score are numerical. We can learn more about the data by using the describe function. This will produce descriptive statistics for the numerical variables in this dataset. \n",
    "\n",
    "The info function will give us information on the data types for each variable in addition to metadata on the data structure. We can see that our data has 200 rows with 4 columns. "
   ]
  },
  {
   "cell_type": "code",
   "execution_count": 3,
   "metadata": {},
   "outputs": [
    {
     "data": {
      "text/html": [
       "<div>\n",
       "<style scoped>\n",
       "    .dataframe tbody tr th:only-of-type {\n",
       "        vertical-align: middle;\n",
       "    }\n",
       "\n",
       "    .dataframe tbody tr th {\n",
       "        vertical-align: top;\n",
       "    }\n",
       "\n",
       "    .dataframe thead th {\n",
       "        text-align: right;\n",
       "    }\n",
       "</style>\n",
       "<table border=\"1\" class=\"dataframe\">\n",
       "  <thead>\n",
       "    <tr style=\"text-align: right;\">\n",
       "      <th></th>\n",
       "      <th>Age</th>\n",
       "      <th>Annual Income (k$)</th>\n",
       "      <th>Spending Score (1-100)</th>\n",
       "    </tr>\n",
       "  </thead>\n",
       "  <tbody>\n",
       "    <tr>\n",
       "      <th>count</th>\n",
       "      <td>200.000000</td>\n",
       "      <td>200.000000</td>\n",
       "      <td>200.000000</td>\n",
       "    </tr>\n",
       "    <tr>\n",
       "      <th>mean</th>\n",
       "      <td>38.850000</td>\n",
       "      <td>60.560000</td>\n",
       "      <td>50.200000</td>\n",
       "    </tr>\n",
       "    <tr>\n",
       "      <th>std</th>\n",
       "      <td>13.969007</td>\n",
       "      <td>26.264721</td>\n",
       "      <td>25.823522</td>\n",
       "    </tr>\n",
       "    <tr>\n",
       "      <th>min</th>\n",
       "      <td>18.000000</td>\n",
       "      <td>15.000000</td>\n",
       "      <td>1.000000</td>\n",
       "    </tr>\n",
       "    <tr>\n",
       "      <th>25%</th>\n",
       "      <td>28.750000</td>\n",
       "      <td>41.500000</td>\n",
       "      <td>34.750000</td>\n",
       "    </tr>\n",
       "    <tr>\n",
       "      <th>50%</th>\n",
       "      <td>36.000000</td>\n",
       "      <td>61.500000</td>\n",
       "      <td>50.000000</td>\n",
       "    </tr>\n",
       "    <tr>\n",
       "      <th>75%</th>\n",
       "      <td>49.000000</td>\n",
       "      <td>78.000000</td>\n",
       "      <td>73.000000</td>\n",
       "    </tr>\n",
       "    <tr>\n",
       "      <th>max</th>\n",
       "      <td>70.000000</td>\n",
       "      <td>137.000000</td>\n",
       "      <td>99.000000</td>\n",
       "    </tr>\n",
       "  </tbody>\n",
       "</table>\n",
       "</div>"
      ],
      "text/plain": [
       "              Age  Annual Income (k$)  Spending Score (1-100)\n",
       "count  200.000000          200.000000              200.000000\n",
       "mean    38.850000           60.560000               50.200000\n",
       "std     13.969007           26.264721               25.823522\n",
       "min     18.000000           15.000000                1.000000\n",
       "25%     28.750000           41.500000               34.750000\n",
       "50%     36.000000           61.500000               50.000000\n",
       "75%     49.000000           78.000000               73.000000\n",
       "max     70.000000          137.000000               99.000000"
      ]
     },
     "execution_count": 3,
     "metadata": {},
     "output_type": "execute_result"
    }
   ],
   "source": [
    "df.describe()"
   ]
  },
  {
   "cell_type": "code",
   "execution_count": 4,
   "metadata": {},
   "outputs": [
    {
     "name": "stdout",
     "output_type": "stream",
     "text": [
      "<class 'pandas.core.frame.DataFrame'>\n",
      "RangeIndex: 200 entries, 0 to 199\n",
      "Data columns (total 5 columns):\n",
      "CustomerID                200 non-null object\n",
      "Gender                    200 non-null object\n",
      "Age                       200 non-null int64\n",
      "Annual Income (k$)        200 non-null int64\n",
      "Spending Score (1-100)    200 non-null int64\n",
      "dtypes: int64(3), object(2)\n",
      "memory usage: 7.9+ KB\n"
     ]
    }
   ],
   "source": [
    "df.info()"
   ]
  },
  {
   "cell_type": "markdown",
   "metadata": {},
   "source": [
    "There are many elements of the data that we can infer based on descritpives alone. For example, if the mean is the same as the median, then the distribution of that column is symmetric and has no skew. Typically we need to discover such relationships to determine what sort of statistcial transform we could apply on our data. (log, box-cox,etc.) \n",
    "\n",
    "Now that we have an idea of what the data actually is, we need to understand some important mathematical assumptions regarding k means. Understanding the assumptions/requirements of a particular algorithm is mandatory. This understanding is the difference between garbage in and garbage out. All algorithms have assumptions where some are more strict than others.\n",
    "\n",
    "* clustering methods that require using medians or means are unstable when it comes to categorical data. Categorical data is essentially non numeric data such as the Gender variable in our sample data. How would you would take the average between male and female? We could dummy code variables but the more dummy variables you create, clusters become less meanginful especially if you are not able to have at least 50 rows of data per variable. 50 rows of data per variable should allow you to avoid degrees of freedom issues. (I'll show what that looks like below) With a variable such as Gender, we could get away with dummy coding since Gender will only create two dummy variables. \n",
    "\n",
    "* We also want to check if our data contains a variable that could be related to a label vector. If we already have a variable that groups our data into intuitive clusters, then it is more likely that our algorithm will underperform. This automatically creates a bias within the algorithm and any results will more than likely be garbage out. \n",
    "\n",
    "* We need to check what our data looks like on a simple scatter plot. clustering algorithms such as k means depends on the data being spherical. This assumption checks if our data could be seperated into clusters that make sense. If our data is not spherical, then we may get another case of garbage out. Some workarounds to non-spherical data is converting data points into polar coordinates. For those who have not taken calculus 2, polar coordinates are a 2 dimensional coordinate system where each point on the plane is determined by the distance and angle from a reference point. \n",
    "\n",
    "* One other assumption for k means is that the cluster sizes should be similar. This allows for the algorithm to be able to define boundaries between clusters with less complications. \n",
    "\n",
    "One note about k means is that k means falls under the hard clustering umbrella. This means that all data points exist in one cluster mutually exclusive from other clusters. In the long term, our goal is figure out a way to cluster data points that can potentially exist in one or more cluster. \n",
    "\n",
    "## Data Processing \n",
    "\n",
    "Data processing is mandatory before any sort of analysis. Data processing entails dealing with missing values, normalizing values, dealing with outliers, applying transformations on data, and feature engineering/importance. For our example, our mall customer data is reasonably clean so the only bit of processing we need to do is transform gender to dummy variables. \n",
    "\n",
    "You don't have to know this now but we will be using the one hot encoder package. This package will take a categorical value and convert it into n columns where n represents the number of unique values in said variable. If the row contains that entry, then it is represented with a 1 otherwise 0. This is a weakness of python sklearn packages. It does not accept categorical data unlike r. This is mainly due to python being used more for production and large scale deployment. \n",
    "\n",
    "This package will automatically check if a variable is categorical or not. If it is not, it will be skipped. As you can see, Gender is now broken up into two dummy variables and each customer will have a 1 or 0 but not both. \n",
    "\n",
    "For the sake of this example, we will NOT consider age or gender in the clustering simply because we want to be able to show a 2 dimensional visual cluster. We need to consider more advanced visualization techniques if we want to consider age and gender in our visual clusters. As a matter of fact, students are exposed to multivariate visualizations in calculus 3. "
   ]
  },
  {
   "cell_type": "code",
   "execution_count": 5,
   "metadata": {},
   "outputs": [
    {
     "data": {
      "text/html": [
       "<div>\n",
       "<style scoped>\n",
       "    .dataframe tbody tr th:only-of-type {\n",
       "        vertical-align: middle;\n",
       "    }\n",
       "\n",
       "    .dataframe tbody tr th {\n",
       "        vertical-align: top;\n",
       "    }\n",
       "\n",
       "    .dataframe thead th {\n",
       "        text-align: right;\n",
       "    }\n",
       "</style>\n",
       "<table border=\"1\" class=\"dataframe\">\n",
       "  <thead>\n",
       "    <tr style=\"text-align: right;\">\n",
       "      <th></th>\n",
       "      <th>Gender_Male</th>\n",
       "      <th>Gender_Female</th>\n",
       "      <th>Age</th>\n",
       "      <th>Annual Income (k$)</th>\n",
       "      <th>Spending Score (1-100)</th>\n",
       "    </tr>\n",
       "  </thead>\n",
       "  <tbody>\n",
       "    <tr>\n",
       "      <th>0</th>\n",
       "      <td>1</td>\n",
       "      <td>0</td>\n",
       "      <td>19</td>\n",
       "      <td>15</td>\n",
       "      <td>39</td>\n",
       "    </tr>\n",
       "    <tr>\n",
       "      <th>1</th>\n",
       "      <td>1</td>\n",
       "      <td>0</td>\n",
       "      <td>21</td>\n",
       "      <td>15</td>\n",
       "      <td>81</td>\n",
       "    </tr>\n",
       "    <tr>\n",
       "      <th>2</th>\n",
       "      <td>0</td>\n",
       "      <td>1</td>\n",
       "      <td>20</td>\n",
       "      <td>16</td>\n",
       "      <td>6</td>\n",
       "    </tr>\n",
       "    <tr>\n",
       "      <th>3</th>\n",
       "      <td>0</td>\n",
       "      <td>1</td>\n",
       "      <td>23</td>\n",
       "      <td>16</td>\n",
       "      <td>77</td>\n",
       "    </tr>\n",
       "    <tr>\n",
       "      <th>4</th>\n",
       "      <td>0</td>\n",
       "      <td>1</td>\n",
       "      <td>31</td>\n",
       "      <td>17</td>\n",
       "      <td>40</td>\n",
       "    </tr>\n",
       "  </tbody>\n",
       "</table>\n",
       "</div>"
      ],
      "text/plain": [
       "   Gender_Male  Gender_Female  Age  Annual Income (k$)  Spending Score (1-100)\n",
       "0            1              0   19                  15                      39\n",
       "1            1              0   21                  15                      81\n",
       "2            0              1   20                  16                       6\n",
       "3            0              1   23                  16                      77\n",
       "4            0              1   31                  17                      40"
      ]
     },
     "execution_count": 5,
     "metadata": {},
     "output_type": "execute_result"
    }
   ],
   "source": [
    "import category_encoders as ce \n",
    "\n",
    "ohe= ce.OneHotEncoder(handle_unknown='ignore', use_cat_names=True)\n",
    "\n",
    "df=df.drop(['CustomerID'], axis=1)\n",
    "\n",
    "df2=ohe.fit_transform(df)\n",
    "\n",
    "df2.head()"
   ]
  },
  {
   "cell_type": "markdown",
   "metadata": {},
   "source": [
    "We now have data that is clean and numeric. Before we perform any sort of analysis, we should do some exploration on our data set to better understand and anticipate if there are underlying patterns or relationships in the data. \n",
    "\n",
    "## Exploring the Data \n",
    "\n",
    "You don't have to worry about knowing how to visualize at this point but for the sake of seeing a typical data science workflow, its good to include in this session. I am going to partition ages into groups and get a sense of the number of customers that fall within each group. It is important to make the distinction that I will NOT be transforming age into bins. For analysis, age will remain as singular age values instead of bins. When you bin continous variables, you artificially create noise and lose signal in that variable. Most if not all data science experts will frown upon binning continous variables. Binning for the sake of data exploration is okay. "
   ]
  },
  {
   "cell_type": "code",
   "execution_count": 6,
   "metadata": {},
   "outputs": [
    {
     "data": {
      "image/png": "[encoded data removed]",
      "text/plain": [
       "<matplotlib.figure.Figure at 0x1af192684e0>"
      ]
     },
     "metadata": {},
     "output_type": "display_data"
    }
   ],
   "source": [
    "#Define age groups and put them all into sub data sets based on defined condition \n",
    "age18_25 = df2.Age[(df2.Age <= 25) & (df2.Age >= 18)] #ages 18 to 25 \n",
    "\n",
    "age26_35 = df2.Age[(df2.Age <= 35) & (df2.Age >= 26)] #ages 26 to 36\n",
    "\n",
    "age36_45 = df2.Age[(df2.Age <= 45) & (df2.Age >= 36)] #ages 36 to 45 \n",
    "\n",
    "age46_55 = df2.Age[(df2.Age <= 55) & (df2.Age >= 46)] #ages 46 to 55 \n",
    "\n",
    "age55above = df2.Age[df2.Age >= 56] # 56 and older \n",
    "\n",
    "x = [\"18-25\",\"26-35\",\"36-45\",\"46-55\",\"55+\"] #create nice labels for each age group that are easy to understand \n",
    "\n",
    "#initialize the length of the y coordinate by using the len function for each age group (count number of customers per group)\n",
    "y = [len(age18_25.values),len(age26_35.values),len(age36_45.values),len(age46_55.values),len(age55above.values)]\n",
    "\n",
    "#use a plotting package to put the bars on a single 15X6 plot on screen \n",
    "plt.figure(figsize=(15,6))\n",
    "\n",
    "sns.barplot(x=x, y=y, palette=\"Blues\") #color pallete \n",
    "\n",
    "plt.title(\"Number of Customer by Age\") #graph title \n",
    "\n",
    "plt.xlabel(\"Age\") #x axis label \n",
    "\n",
    "plt.ylabel(\"Number of Customers\") #y axis label \n",
    "\n",
    "plt.show() #show plot"
   ]
  },
  {
   "cell_type": "markdown",
   "metadata": {},
   "source": [
    "What do we see? We observe that the majority of mall customers fall within the 26-35 age group. This type of insight can be very telling for retail purposes. I am going to repeat this same exact process for score and income. For geneder, I will need to do frequency counts since gender is categorical. This will give me a better sense on what type of people come to the mall. Lets start with score. We know score represents the number of transactions per customer on a 0-100 scale. "
   ]
  },
  {
   "cell_type": "code",
   "execution_count": 7,
   "metadata": {},
   "outputs": [
    {
     "data": {
      "image/png": "[encoded data removed]",
      "text/plain": [
       "<matplotlib.figure.Figure at 0x1af1933ada0>"
      ]
     },
     "metadata": {},
     "output_type": "display_data"
    }
   ],
   "source": [
    "ss1_20 = df2[\"Spending Score (1-100)\"][(df2[\"Spending Score (1-100)\"] >= 1) & (df2[\"Spending Score (1-100)\"] <= 20)]\n",
    "\n",
    "ss21_40 = df2[\"Spending Score (1-100)\"][(df2[\"Spending Score (1-100)\"] >= 21) & (df2[\"Spending Score (1-100)\"] <= 40)]\n",
    "\n",
    "ss41_60 = df2[\"Spending Score (1-100)\"][(df2[\"Spending Score (1-100)\"] >= 41) & (df2[\"Spending Score (1-100)\"] <= 60)]\n",
    "\n",
    "ss61_80 = df2[\"Spending Score (1-100)\"][(df2[\"Spending Score (1-100)\"] >= 61) & (df2[\"Spending Score (1-100)\"] <= 80)]\n",
    "\n",
    "ss81_100 = df2[\"Spending Score (1-100)\"][(df2[\"Spending Score (1-100)\"] >= 81) & (df2[\"Spending Score (1-100)\"] <= 100)]\n",
    "\n",
    "ssx = [\"1-20\", \"21-40\", \"41-60\", \"61-80\", \"81-100\"]\n",
    "\n",
    "ssy = [len(ss1_20.values), len(ss21_40.values), len(ss41_60.values), len(ss61_80.values), len(ss81_100.values)]\n",
    "\n",
    "plt.figure(figsize=(15,6))\n",
    "\n",
    "sns.barplot(x=ssx, y=ssy, palette=\"nipy_spectral_r\")\n",
    "\n",
    "plt.title(\"Number of Customers by Spending Scores\")\n",
    "\n",
    "plt.xlabel(\"Score\")\n",
    "\n",
    "plt.ylabel(\"Number of Customers\")\n",
    "\n",
    "plt.show()"
   ]
  },
  {
   "cell_type": "markdown",
   "metadata": {},
   "source": [
    "It looks like the majority of customers fall within a middle range spending score. Perhaps people go to the mall for other reasons than shopping? Lets perform a similar inspection for income. "
   ]
  },
  {
   "cell_type": "code",
   "execution_count": 8,
   "metadata": {},
   "outputs": [
    {
     "data": {
      "image/png": "[encoded data removed]",
      "text/plain": [
       "<matplotlib.figure.Figure at 0x1af193a9780>"
      ]
     },
     "metadata": {},
     "output_type": "display_data"
    }
   ],
   "source": [
    "ai0_30 = df2[\"Annual Income (k$)\"][(df2[\"Annual Income (k$)\"] >= 0) & (df2[\"Annual Income (k$)\"] <= 30)]\n",
    "\n",
    "ai31_60 = df2[\"Annual Income (k$)\"][(df2[\"Annual Income (k$)\"] >= 31) & (df2[\"Annual Income (k$)\"] <= 60)]\n",
    "\n",
    "ai61_90 = df2[\"Annual Income (k$)\"][(df2[\"Annual Income (k$)\"] >= 61) & (df2[\"Annual Income (k$)\"] <= 90)]\n",
    "\n",
    "ai91_120 = df2[\"Annual Income (k$)\"][(df2[\"Annual Income (k$)\"] >= 91) & (df2[\"Annual Income (k$)\"] <= 120)]\n",
    "\n",
    "ai121_150 = df2[\"Annual Income (k$)\"][(df2[\"Annual Income (k$)\"] >= 121) & (df2[\"Annual Income (k$)\"] <= 150)]\n",
    "\n",
    "\n",
    "aix = [\"$ 0 - 30,000\", \"$ 30,001 - 60,000\", \"$ 60,001 - 90,000\", \"$ 90,001 - 120,000\", \"$ 120,001 - 150,000\"]\n",
    "\n",
    "aiy = [len(ai0_30.values), len(ai31_60.values), len(ai61_90.values), len(ai91_120.values), len(ai121_150.values)]\n",
    "\n",
    "plt.figure(figsize=(15,6))\n",
    "\n",
    "sns.barplot(x=aix, y=aiy, palette=\"Set2\")\n",
    "\n",
    "plt.title(\"Number of Customers by Annual Income\")\n",
    "\n",
    "plt.xlabel(\"Income\")\n",
    "\n",
    "plt.ylabel(\"Number of Customers\")\n",
    "\n",
    "plt.show()"
   ]
  },
  {
   "cell_type": "markdown",
   "metadata": {},
   "source": [
    "It looks like most customers fall within the 60-90k annual income bracket followed closely by 30k - 60k. Through this data inspection, perhaps some intutition is starting to form regarding how to group these mall customers. We are missing one more variable. Lets check how many customers are male and female. We will use the original dataset before one hot encoding to get frequency counts. "
   ]
  },
  {
   "cell_type": "code",
   "execution_count": 9,
   "metadata": {},
   "outputs": [
    {
     "data": {
      "image/png": "[encoded data removed]",
      "text/plain": [
       "<matplotlib.figure.Figure at 0x1af192ee9e8>"
      ]
     },
     "metadata": {},
     "output_type": "display_data"
    }
   ],
   "source": [
    "genders = df.Gender.value_counts()\n",
    "\n",
    "sns.set_style(\"darkgrid\")\n",
    "\n",
    "plt.figure(figsize=(10,4))\n",
    "\n",
    "sns.barplot(x=genders.index, y=genders.values)\n",
    "\n",
    "plt.show()"
   ]
  },
  {
   "cell_type": "markdown",
   "metadata": {},
   "source": [
    "We can see that the majority of mall visitors are female but there does not seem to be a huge difference between males and females in terms of number of customers to the mall. \n",
    "\n",
    "## K-Means Clustering \n",
    "\n",
    "We will first try to perform k means clustering on our dataset without using any python packages. We will then use the native scikit learn packages in the following lessons. Lets review the steps required for k-means. \n",
    "\n",
    "* Step 1: Pick k cluster centroids at random. Lets assume our collection of centroids takes the form $c_{1}, c_{2},c_{3},...,c_{k}$ \n",
    "\n",
    "\n",
    "* Step 2: Each of our $C_{i}$ centroids define each cluster. We iterate through each datapoint and assign it to the nearest centroid based on the Squared Euclidean Distance. $\\underset { { c }_{ i }\\epsilon C }{ argmin(dist({ c }_{ i },x))^{2} }$ Don't worry about the notation. It is simply stating that we compute the squared euclidean distance between data points and centroid and take the minimum distance as our criteria to assign data points to clusters. \n",
    "\n",
    "\n",
    "* Step 3: We re-calculate the centroids at this point by taking the average of the data points that have been assigned to a cluster in step 2 based on that cluster's centroid. The mean is calculated as follows ${ c }_{ i }=\\frac { 1 }{ { S }_{ i } } \\sum _{ { x }_{ i } \\epsilon { S }_{ i } }^{  }{ { x }_{ i } }$ If the notation does not make sense, this equation is simply stating that for all points S within each cluster, compute the average distance across all points S. \n",
    "\n",
    "\n",
    "* Step 4: We repeat steps 1 and 2 until we reach convergence. Convergence means that we finally reach non changing centroids. This implies that distance metrics are minimized or we directed our algorithm to perform a specific number of iterations. One thing to note is that convergence does not imply \"correct\" solutions. This is dependent on the number of clusters picked at step 1. We may need to repeat using trial and error. \n",
    "\n",
    "There are some important rules to understand about this algorithm. We already examined some of the requirements but we should also know that the algorithm will be highly unstable as dimension increases. In other words, the more columns your data has, the less efficient this algorithm will be. In this case you should consider some advanced dimension reduction methods such as PCA. \n",
    "\n",
    "We also mentioned that the data has to be numerical. Even if we want to dummy code categorical values, we should try to avoid this practice with variables that have many categorical values. If we want to apply clustering to categorical or mixed data, we should consider k-mode clustering. K-mode clustering is the cousin of k means designed for categorical data. We will cover k-mode in a future session. \n",
    "\n",
    "To begin, we are going to pick a number for k, store values regarding the dimensions of the data, and make a copy of the data in case we change something in the data. We also pick annual income and spending score for our clustering. We will do 10 iterations using 5 clusters. We save the number of rows in m and save the number of features in n."
   ]
  },
  {
   "cell_type": "code",
   "execution_count": 10,
   "metadata": {},
   "outputs": [],
   "source": [
    "#make a data copy \n",
    "X=df2.iloc[:, [3,4]].values\n",
    "\n",
    "#number of iterations\n",
    "n_iterations=10\n",
    "\n",
    "# Number of clusters\n",
    "K = 5\n",
    "\n",
    "# Number of training data\n",
    "m = X.shape[0]\n",
    "\n",
    "# Number of features in the data\n",
    "n = X.shape[1]"
   ]
  },
  {
   "cell_type": "markdown",
   "metadata": {},
   "source": [
    "Our Next step is to initialize the centroids at random with the help of the random package. Each column in or centroids is a cluster.  "
   ]
  },
  {
   "cell_type": "code",
   "execution_count": 11,
   "metadata": {},
   "outputs": [],
   "source": [
    "Centroids=np.array([]).reshape(n,0)"
   ]
  },
  {
   "cell_type": "code",
   "execution_count": 19,
   "metadata": {},
   "outputs": [
    {
     "data": {
      "text/plain": [
       "array([[34.77419355, 89.28125   , 66.6       , 50.15      , 89.09677419,\n",
       "        19.        , 39.        , 15.        , 42.        , 24.        ],\n",
       "       [42.35483871, 84.28125   , 44.85714286, 67.175     , 14.83870968,\n",
       "        99.        , 28.        , 39.        , 52.        , 35.        ]])"
      ]
     },
     "execution_count": 19,
     "metadata": {},
     "output_type": "execute_result"
    }
   ],
   "source": [
    "import random as rd \n",
    "\n",
    "for i in range(K):\n",
    "    \n",
    "    rand=rd.randint(0,m-1)\n",
    "    \n",
    "    Centroids=np.c_[Centroids,X[rand]]\n",
    "    \n",
    "Centroids"
   ]
  },
  {
   "cell_type": "markdown",
   "metadata": {},
   "source": [
    "Our next step is to compute the distance metrics from the centroid to each data point and take the minimum distance across all computed distances. Assign each data point to the centroid based on minimum distance. \n",
    "\n",
    "We want our result to be a dictionary data type so we create an empty dictionary. As for the calculation, we store the distances in a m by k matrix. We find our minimum using this matrix. "
   ]
  },
  {
   "cell_type": "code",
   "execution_count": 13,
   "metadata": {},
   "outputs": [],
   "source": [
    "result={}"
   ]
  },
  {
   "cell_type": "code",
   "execution_count": 20,
   "metadata": {},
   "outputs": [
    {
     "data": {
      "text/plain": [
       "array([1, 4, 1, 4, 1, 4, 1, 4, 1, 4, 1, 4, 1, 4, 1, 4, 1, 1, 1, 4, 1, 4,\n",
       "       1, 4, 1, 4, 1, 1, 1, 4, 1, 4, 1, 4, 1, 4, 1, 4, 1, 4, 1, 4, 1, 4,\n",
       "       1, 4, 1, 1, 1, 1, 1, 4, 1, 4, 1, 1, 1, 1, 1, 1, 4, 4, 4, 4, 1, 4,\n",
       "       1, 1, 4, 1, 4, 1, 1, 4, 3, 4, 4, 3, 3, 3, 3, 4, 3, 3, 4, 3, 4, 3,\n",
       "       4, 3, 3, 3, 3, 3, 3, 3, 3, 3, 3, 3, 3, 3, 4, 3, 3, 3, 3, 3, 3, 3,\n",
       "       3, 3, 3, 3, 3, 3, 3, 3, 3, 3, 3, 3, 3, 2, 3, 2, 3, 2, 5, 2, 5, 2,\n",
       "       3, 2, 5, 2, 5, 2, 5, 2, 5, 2, 3, 2, 5, 2, 3, 2, 5, 2, 5, 2, 5, 2,\n",
       "       5, 2, 5, 2, 5, 2, 3, 2, 5, 2, 5, 2, 5, 2, 5, 2, 5, 2, 5, 2, 5, 2,\n",
       "       5, 2, 5, 2, 5, 2, 5, 2, 5, 2, 5, 2, 5, 2, 5, 2, 5, 2, 5, 2, 5, 2,\n",
       "       5, 2], dtype=int64)"
      ]
     },
     "execution_count": 20,
     "metadata": {},
     "output_type": "execute_result"
    }
   ],
   "source": [
    "EuclidianDistance=np.array([]).reshape(m,0)\n",
    "\n",
    "for k in range(K):\n",
    "    \n",
    "       tempDist=np.sum((X-Centroids[:,k])**2,axis=1)\n",
    "        \n",
    "       EuclidianDistance=np.c_[EuclidianDistance,tempDist]\n",
    "        \n",
    "C=np.argmin(EuclidianDistance,axis=1)+1\n",
    "\n",
    "C"
   ]
  },
  {
   "cell_type": "markdown",
   "metadata": {},
   "source": [
    "We will then assign points to clusters based on those centroid calculations. The empty dictionary Y, will store our temp cluster assignments for 1 of the 10 iterations. We will perform on iteration and then loop so that we perform it n_iteration times. "
   ]
  },
  {
   "cell_type": "code",
   "execution_count": 22,
   "metadata": {},
   "outputs": [],
   "source": [
    "#This does one iteration\n",
    "\n",
    "Y={}\n",
    "\n",
    "for k in range(K):\n",
    "    \n",
    "    Y[k+1]=np.array([]).reshape(2,0)\n",
    "    \n",
    "for i in range(m):\n",
    "    \n",
    "    Y[C[i]]=np.c_[Y[C[i]],X[i]]\n",
    "     \n",
    "for k in range(K):\n",
    "    \n",
    "    Y[k+1]=Y[k+1].T\n",
    "    \n",
    "for k in range(K):\n",
    "    \n",
    "     Centroids[:,k]=np.mean(Y[k+1],axis=0)\n",
    "        \n"
   ]
  },
  {
   "cell_type": "code",
   "execution_count": 23,
   "metadata": {},
   "outputs": [],
   "source": [
    "#this loops and does the number of iterations we specified. \n",
    "\n",
    "for i in range(n_iterations):\n",
    "    \n",
    "#step 2.a\n",
    "    EuclidianDistance=np.array([]).reshape(m,0)\n",
    "    \n",
    "for k in range(K):\n",
    "            \n",
    "    tempDist=np.sum((X-Centroids[:,k])**2,axis=1)\n",
    "        \n",
    "    EuclidianDistance=np.c_[EuclidianDistance,tempDist]\n",
    "            \n",
    "    C=np.argmin(EuclidianDistance,axis=1)+1\n",
    "    \n",
    "#step 2.b\n",
    "Y={}\n",
    "\n",
    "for k in range(K):\n",
    "    \n",
    "    Y[k+1]=np.array([]).reshape(2,0)\n",
    "    \n",
    "for i in range(m):\n",
    "            \n",
    "    Y[C[i]]=np.c_[Y[C[i]],X[i]]\n",
    "     \n",
    "for k in range(K):\n",
    "                 \n",
    "        Y[k+1]=Y[k+1].T\n",
    "    \n",
    "for k in range(K):\n",
    "            \n",
    "    Centroids[:,k]=np.mean(Y[k+1],axis=0)\n",
    "            \n",
    "Output=Y"
   ]
  },
  {
   "cell_type": "markdown",
   "metadata": {},
   "source": [
    "This is the scatter plot of annual income and spending score before clustering. As you can see, our data is spherical meaning you can sort of see the somewhat circular blobs or clusters even before running k means. "
   ]
  },
  {
   "cell_type": "code",
   "execution_count": 24,
   "metadata": {},
   "outputs": [
    {
     "data": {
      "image/png": "[encoded data removed]",
      "text/plain": [
       "<matplotlib.figure.Figure at 0x1af1995b780>"
      ]
     },
     "metadata": {},
     "output_type": "display_data"
    }
   ],
   "source": [
    "plt.scatter(X[:,0],X[:,1],c='black',label='unclustered data')\n",
    "\n",
    "plt.xlabel('Income')\n",
    "\n",
    "plt.ylabel('Number of transactions')\n",
    "\n",
    "plt.legend()\n",
    "\n",
    "plt.title('Plot of data points')\n",
    "\n",
    "plt.show()"
   ]
  },
  {
   "cell_type": "code",
   "execution_count": 25,
   "metadata": {},
   "outputs": [
    {
     "data": {
      "image/png": "[encoded data removed]",
      "text/plain": [
       "<matplotlib.figure.Figure at 0x1af1994bb38>"
      ]
     },
     "metadata": {},
     "output_type": "display_data"
    }
   ],
   "source": [
    "color=['red','blue','green','cyan','magenta']\n",
    "\n",
    "labels=['cluster1','cluster2','cluster3','cluster4','cluster5']\n",
    "\n",
    "for k in range(K):\n",
    "    \n",
    "    plt.scatter(Output[k+1][:,0],Output[k+1][:,1],c=color[k],label=labels[k])\n",
    "    \n",
    "plt.scatter(Centroids[0,:],Centroids[1,:],s=300,c='yellow',label='Centroids')\n",
    "\n",
    "plt.xlabel('Income')\n",
    "\n",
    "plt.ylabel('Number of transactions')\n",
    "\n",
    "plt.legend()\n",
    "\n",
    "plt.show()"
   ]
  },
  {
   "cell_type": "markdown",
   "metadata": {},
   "source": [
    "After 10 iterations, we were able to group our customers into 5 clusters based on their income and transaction score. We don't know if these clusters are good or not. There are methods that take away the trial and error and allow us to find the optimal number of clusters. \n",
    "\n",
    "This tutorial was based on the following articles: \n",
    "\n",
    "https://medium.com/machine-learning-algorithms-from-scratch/k-means-clustering-from-scratch-in-python-1675d38eee42\n",
    "\n",
    "https://towardsdatascience.com/mall-customers-segmentation-using-machine-learning-274ddf5575d5\n",
    "\n",
    "## Homework \n",
    "\n",
    "Please start this tutorial using Pandas\n",
    "\n",
    "https://www.learndatasci.com/tutorials/python-pandas-tutorial-complete-introduction-for-beginners/"
   ]
  },
  {
   "cell_type": "code",
   "execution_count": null,
   "metadata": {},
   "outputs": [],
   "source": []
  }
 ],
 "metadata": {
  "kernelspec": {
   "display_name": "Python 3",
   "language": "python",
   "name": "python3"
  },
  "language_info": {
   "codemirror_mode": {
    "name": "ipython",
    "version": 3
   },
   "file_extension": ".py",
   "mimetype": "text/x-python",
   "name": "python",
   "nbconvert_exporter": "python",
   "pygments_lexer": "ipython3",
   "version": "3.6.4"
  }
 },
 "nbformat": 4,
 "nbformat_minor": 2
}
