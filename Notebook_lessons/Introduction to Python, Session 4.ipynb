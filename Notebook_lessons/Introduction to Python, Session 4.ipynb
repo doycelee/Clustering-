{
 "cells": [
  {
   "cell_type": "markdown",
   "metadata": {},
   "source": [
    "# Introduction to python, Session 4 \n",
    "\n",
    "This section will briefly review some of the most key mechanics from the pandas. We will then start our introduction to graphs section using the following book \"Social Network Analysis\" for startups. You will want to have read the first chapters prior to this section. \n",
    "\n",
    "## Pandas\n",
    "\n",
    "Read the following article. We will cover the big main features of Pandas as specified in the literature. \n",
    "https://towardsdatascience.com/6-basic-pandas-techniques-you-need-to-know-2c5725746938\n",
    "\n",
    "### Creating a Data Frame \n",
    "\n",
    "From our previous sessions, we know that we will mainly be working with the data frame object in python. Data frames looks like your standard csv in terms of having data represented in terms of rows and columns. Lets focus on the example on how to import data from an external source as a data frame object. \n",
    "\n",
    "Lets say that we have a csv i an online location such as a github repository. we can read data from our repository by reading in the URl directly from https://raw.githubusercontent.com/DACUS1995/BIRCH-Mall-Customers-clustering/master/Mall_Customers.csv"
   ]
  },
  {
   "cell_type": "code",
   "execution_count": 1,
   "metadata": {},
   "outputs": [
    {
     "data": {
      "text/html": [
       "<div>\n",
       "<style scoped>\n",
       "    .dataframe tbody tr th:only-of-type {\n",
       "        vertical-align: middle;\n",
       "    }\n",
       "\n",
       "    .dataframe tbody tr th {\n",
       "        vertical-align: top;\n",
       "    }\n",
       "\n",
       "    .dataframe thead th {\n",
       "        text-align: right;\n",
       "    }\n",
       "</style>\n",
       "<table border=\"1\" class=\"dataframe\">\n",
       "  <thead>\n",
       "    <tr style=\"text-align: right;\">\n",
       "      <th></th>\n",
       "      <th>CustomerID</th>\n",
       "      <th>Gender</th>\n",
       "      <th>Age</th>\n",
       "      <th>Annual Income (k$)</th>\n",
       "      <th>Spending Score (1-100)</th>\n",
       "    </tr>\n",
       "  </thead>\n",
       "  <tbody>\n",
       "    <tr>\n",
       "      <th>0</th>\n",
       "      <td>1</td>\n",
       "      <td>Male</td>\n",
       "      <td>19</td>\n",
       "      <td>15</td>\n",
       "      <td>39</td>\n",
       "    </tr>\n",
       "    <tr>\n",
       "      <th>1</th>\n",
       "      <td>2</td>\n",
       "      <td>Male</td>\n",
       "      <td>21</td>\n",
       "      <td>15</td>\n",
       "      <td>81</td>\n",
       "    </tr>\n",
       "    <tr>\n",
       "      <th>2</th>\n",
       "      <td>3</td>\n",
       "      <td>Female</td>\n",
       "      <td>20</td>\n",
       "      <td>16</td>\n",
       "      <td>6</td>\n",
       "    </tr>\n",
       "    <tr>\n",
       "      <th>3</th>\n",
       "      <td>4</td>\n",
       "      <td>Female</td>\n",
       "      <td>23</td>\n",
       "      <td>16</td>\n",
       "      <td>77</td>\n",
       "    </tr>\n",
       "    <tr>\n",
       "      <th>4</th>\n",
       "      <td>5</td>\n",
       "      <td>Female</td>\n",
       "      <td>31</td>\n",
       "      <td>17</td>\n",
       "      <td>40</td>\n",
       "    </tr>\n",
       "  </tbody>\n",
       "</table>\n",
       "</div>"
      ],
      "text/plain": [
       "   CustomerID  Gender  Age  Annual Income (k$)  Spending Score (1-100)\n",
       "0           1    Male   19                  15                      39\n",
       "1           2    Male   21                  15                      81\n",
       "2           3  Female   20                  16                       6\n",
       "3           4  Female   23                  16                      77\n",
       "4           5  Female   31                  17                      40"
      ]
     },
     "execution_count": 1,
     "metadata": {},
     "output_type": "execute_result"
    }
   ],
   "source": [
    "import pandas as pd \n",
    "\n",
    "url = 'https://raw.githubusercontent.com/DACUS1995/BIRCH-Mall-Customers-clustering/master/Mall_Customers.csv'\n",
    "\n",
    "df = pd.read_csv(url)\n",
    "\n",
    "df.head()"
   ]
  },
  {
   "cell_type": "markdown",
   "metadata": {},
   "source": [
    "The read_csv function is quite powerful. There are more parameters that you can specify that are not shown here. For example, you can deal with data that has a different delimeter than comma. Please see the following link for a full breakdown on all the different parameters this function can take. Practically you will most likley use many of these extra parameters for reading in data. \n",
    "\n",
    "If your data is in a local file on your machine, then replace url with the destination path and finally if your data is already inside your jupter environment, you can just call on your file by name. \n",
    "\n",
    "https://pandas.pydata.org/pandas-docs/stable/reference/api/pandas.read_csv.html\n",
    "\n",
    "Once we have a dataframe in our enviroment, then another key mechanic we should know how to do is to subset data by column subset. Lets say I only want the CustomerID and Annual Income column, then I would subset as follows:"
   ]
  },
  {
   "cell_type": "code",
   "execution_count": 7,
   "metadata": {},
   "outputs": [
    {
     "data": {
      "text/plain": [
       "0    15\n",
       "1    15\n",
       "2    16\n",
       "3    16\n",
       "4    17\n",
       "Name: Annual Income (k$), dtype: int64"
      ]
     },
     "execution_count": 7,
     "metadata": {},
     "output_type": "execute_result"
    }
   ],
   "source": [
    "df['Annual Income (k$)'].head()"
   ]
  },
  {
   "cell_type": "markdown",
   "metadata": {},
   "source": [
    "We already covered how to create a brand new column using loops or some calculation, however we did not cover how to drop a column. Lets create a dummy column and then see how we can drop it. "
   ]
  },
  {
   "cell_type": "code",
   "execution_count": 8,
   "metadata": {},
   "outputs": [
    {
     "data": {
      "text/html": [
       "<div>\n",
       "<style scoped>\n",
       "    .dataframe tbody tr th:only-of-type {\n",
       "        vertical-align: middle;\n",
       "    }\n",
       "\n",
       "    .dataframe tbody tr th {\n",
       "        vertical-align: top;\n",
       "    }\n",
       "\n",
       "    .dataframe thead th {\n",
       "        text-align: right;\n",
       "    }\n",
       "</style>\n",
       "<table border=\"1\" class=\"dataframe\">\n",
       "  <thead>\n",
       "    <tr style=\"text-align: right;\">\n",
       "      <th></th>\n",
       "      <th>CustomerID</th>\n",
       "      <th>Gender</th>\n",
       "      <th>Age</th>\n",
       "      <th>Annual Income (k$)</th>\n",
       "      <th>Spending Score (1-100)</th>\n",
       "      <th>Dummy</th>\n",
       "    </tr>\n",
       "  </thead>\n",
       "  <tbody>\n",
       "    <tr>\n",
       "      <th>0</th>\n",
       "      <td>1</td>\n",
       "      <td>Male</td>\n",
       "      <td>19</td>\n",
       "      <td>15</td>\n",
       "      <td>39</td>\n",
       "      <td>False</td>\n",
       "    </tr>\n",
       "    <tr>\n",
       "      <th>1</th>\n",
       "      <td>2</td>\n",
       "      <td>Male</td>\n",
       "      <td>21</td>\n",
       "      <td>15</td>\n",
       "      <td>81</td>\n",
       "      <td>False</td>\n",
       "    </tr>\n",
       "    <tr>\n",
       "      <th>2</th>\n",
       "      <td>3</td>\n",
       "      <td>Female</td>\n",
       "      <td>20</td>\n",
       "      <td>16</td>\n",
       "      <td>6</td>\n",
       "      <td>False</td>\n",
       "    </tr>\n",
       "    <tr>\n",
       "      <th>3</th>\n",
       "      <td>4</td>\n",
       "      <td>Female</td>\n",
       "      <td>23</td>\n",
       "      <td>16</td>\n",
       "      <td>77</td>\n",
       "      <td>False</td>\n",
       "    </tr>\n",
       "    <tr>\n",
       "      <th>4</th>\n",
       "      <td>5</td>\n",
       "      <td>Female</td>\n",
       "      <td>31</td>\n",
       "      <td>17</td>\n",
       "      <td>40</td>\n",
       "      <td>False</td>\n",
       "    </tr>\n",
       "  </tbody>\n",
       "</table>\n",
       "</div>"
      ],
      "text/plain": [
       "   CustomerID  Gender  Age  Annual Income (k$)  Spending Score (1-100)  Dummy\n",
       "0           1    Male   19                  15                      39  False\n",
       "1           2    Male   21                  15                      81  False\n",
       "2           3  Female   20                  16                       6  False\n",
       "3           4  Female   23                  16                      77  False\n",
       "4           5  Female   31                  17                      40  False"
      ]
     },
     "execution_count": 8,
     "metadata": {},
     "output_type": "execute_result"
    }
   ],
   "source": [
    "df['Dummy'] = False\n",
    "\n",
    "df.head()"
   ]
  },
  {
   "cell_type": "code",
   "execution_count": 9,
   "metadata": {},
   "outputs": [
    {
     "data": {
      "text/html": [
       "<div>\n",
       "<style scoped>\n",
       "    .dataframe tbody tr th:only-of-type {\n",
       "        vertical-align: middle;\n",
       "    }\n",
       "\n",
       "    .dataframe tbody tr th {\n",
       "        vertical-align: top;\n",
       "    }\n",
       "\n",
       "    .dataframe thead th {\n",
       "        text-align: right;\n",
       "    }\n",
       "</style>\n",
       "<table border=\"1\" class=\"dataframe\">\n",
       "  <thead>\n",
       "    <tr style=\"text-align: right;\">\n",
       "      <th></th>\n",
       "      <th>CustomerID</th>\n",
       "      <th>Gender</th>\n",
       "      <th>Age</th>\n",
       "      <th>Annual Income (k$)</th>\n",
       "      <th>Spending Score (1-100)</th>\n",
       "    </tr>\n",
       "  </thead>\n",
       "  <tbody>\n",
       "    <tr>\n",
       "      <th>0</th>\n",
       "      <td>1</td>\n",
       "      <td>Male</td>\n",
       "      <td>19</td>\n",
       "      <td>15</td>\n",
       "      <td>39</td>\n",
       "    </tr>\n",
       "    <tr>\n",
       "      <th>1</th>\n",
       "      <td>2</td>\n",
       "      <td>Male</td>\n",
       "      <td>21</td>\n",
       "      <td>15</td>\n",
       "      <td>81</td>\n",
       "    </tr>\n",
       "    <tr>\n",
       "      <th>2</th>\n",
       "      <td>3</td>\n",
       "      <td>Female</td>\n",
       "      <td>20</td>\n",
       "      <td>16</td>\n",
       "      <td>6</td>\n",
       "    </tr>\n",
       "    <tr>\n",
       "      <th>3</th>\n",
       "      <td>4</td>\n",
       "      <td>Female</td>\n",
       "      <td>23</td>\n",
       "      <td>16</td>\n",
       "      <td>77</td>\n",
       "    </tr>\n",
       "    <tr>\n",
       "      <th>4</th>\n",
       "      <td>5</td>\n",
       "      <td>Female</td>\n",
       "      <td>31</td>\n",
       "      <td>17</td>\n",
       "      <td>40</td>\n",
       "    </tr>\n",
       "  </tbody>\n",
       "</table>\n",
       "</div>"
      ],
      "text/plain": [
       "   CustomerID  Gender  Age  Annual Income (k$)  Spending Score (1-100)\n",
       "0           1    Male   19                  15                      39\n",
       "1           2    Male   21                  15                      81\n",
       "2           3  Female   20                  16                       6\n",
       "3           4  Female   23                  16                      77\n",
       "4           5  Female   31                  17                      40"
      ]
     },
     "execution_count": 9,
     "metadata": {},
     "output_type": "execute_result"
    }
   ],
   "source": [
    "df.drop('Dummy', inplace=True, axis=1)\n",
    "\n",
    "df.head()"
   ]
  },
  {
   "cell_type": "markdown",
   "metadata": {},
   "source": [
    "When we use axis=1 in the drop function, we specify that we want to drop labels from the main index. Inplace=True preserves the overall data structure and labels. Refer to the following documentation or a full breakdown of the other functions within pandas https://pandas.pydata.org/pandas-docs/stable/reference/general_functions.html\n",
    "\n",
    "# Introduction to Elements of Graphs \n",
    "\n",
    "This next session assumes that you at least covered chapters 1 through 3 in the Social Network Analysis book. We will gloss over chaptr one since it mostly deals with the motivation behind graphs. \n",
    "\n",
    "## What are graphs? \n",
    "\n",
    "Graphs are essentially abstract mathematical structures that capture relationships, connections, networks, or any related construct. The branch of mathematics called \"Graph\" theory allows us to quantify and measure these constructs and of course with the rise of open source software, we can analyze constructs far more complex than the basic examples we will go over today. Chapter 1 of the social network anaysis book goes into more detail and examples regarding the motivation behind graphs. \n",
    "\n",
    "How are graphs actually represented? We consider a graph G to be a collection of edges E and verticies V. In other words, we consider some graph to be made of nodes which could be connected to other nodes. For example, a node could represent a person and each person can be connected because they have some sort of relationship. A relationship between people (nodes) can be anything like a linkedin connection or retweet. \n",
    "\n",
    "There are two main types of graphs although one is more common than the other. \n",
    "\n",
    "* 1 Mode Model: Systems with only ONE type of node \n",
    "\n",
    "* 2 Mode Model: Systems with TWO types of nodes (can be extended to multimodal) \n",
    "\n",
    "As a conceptual check, what are some scenerios that can be modeled in a 1 or 2 mode system? (think of nodes and relationships between nodes) \n",
    "\n",
    "How exactly do we evaluate graphs? \n",
    "Of course, a lot of the formulas and methods to evaluate graphs can be done by hand including drawing the actual graphs. What happens when we have thousands of nodes and connections? Doing things by hand is no longer an option so how do graphs get analyzed? \n",
    "\n",
    "* One option is to translate a graph into an adjacency matrix. The problem with adjency matricies is that they take up a lot of memory especially for larger networks. Lets see what an adjaceny matrix looks like. \n",
    "\n",
    "* The better option is to create an edge to node list similar to an (x,y) table where each x, y pair defines an edge. \n",
    "\n",
    "Lets generate a simple graph example with three nodes A,B,C and D. i am going to define edges randomly between the four nodes. "
   ]
  },
  {
   "cell_type": "code",
   "execution_count": 1,
   "metadata": {},
   "outputs": [],
   "source": [
    "import networkx as nx\n",
    "import matplotlib.pyplot as plt\n",
    "\n",
    "G = nx.Graph()\n",
    "\n",
    "nodes = ['A','B','C','D']\n",
    "G.add_nodes_from(nodes)\n",
    "\n",
    "edges = [('A','C'),('A','B'),('B','D'),('A','D'),('C','D')]\n",
    "\n",
    "G.add_edges_from(edges)"
   ]
  },
  {
   "cell_type": "code",
   "execution_count": 20,
   "metadata": {},
   "outputs": [
    {
     "data": {
      "image/png": "[encoded data removed]",
      "text/plain": [
       "<matplotlib.figure.Figure at 0x237f2625be0>"
      ]
     },
     "metadata": {},
     "output_type": "display_data"
    }
   ],
   "source": [
    "nx.draw(G, with_labels = True)\n",
    "plt.show()"
   ]
  },
  {
   "cell_type": "markdown",
   "metadata": {},
   "source": [
    "## How do we represent the above graphs? \n",
    "\n",
    "The first thing we need to consider is that the matrix is always going to be m x m, meaning the number or rows and columns are the same. The number of rows and columns are dependent on the number of nodes. In our case we will have a matix with four rows and four columns where rows go A,B, C, and D from left to right and columns go from A, B, C, and D from top to bottom. \n",
    "\n",
    "$\\begin{matrix}  & A & B & C & D \\\\ A & 0 & 1 & 1 & 1 \\\\ B & 1 & 0 & 0 & 1 \\\\ C & 1 & 0 & 0 & 1 \\\\ D & 1 & 1 & 1 & 0 \\end{matrix}$\n",
    "\n",
    "We place a 1 if there exists an edge between ith entry by row and jth entry by column, otherwise we place a zero. If a node has a self loop (meaning node A goes to node A) then we count that as an edge as well. \n",
    "\n",
    "The other way we can represent graph systems is in an edge to edge Adjacency list. This method is much better mainly because it is database friendly and takes up much less space. A good benefit of represeting graphs in this form is that custom graphs can be prepped by using SQL. The list acts like a data frame where it has three columns called from, to, and value. Value is optional and allows you to assign a weight to each edge. \n",
    "\n",
    "$\\begin{matrix} to & from\\quad  & weight(optional) \\\\ A & B &  \\\\ A & C &  \\\\ A & D &  \\\\ B & A &  \\\\ B & D &  \\\\ C & A &  \\\\ C & D &  \\\\ D & A &  \\\\ D & B &  \\\\ D & C &  \\end{matrix}$\n",
    "\n",
    "## What are some features of graphs?\n",
    "\n",
    "Each graph has its own collection of descriptive statistics that give us useful information about our graphs. The first isthe degree. The degree tells us the number of edges, including self loops, connected to some node. In our example, lets look at node A. Node A has three connections, therefore the degree of node A is three. Lets print out the degrees of all the nodes. While this is a handy feature for small graphs, if we have millions of nodes, we do not want to print out the degree for those millions of nodes. There are other metrics we can consider. \n"
   ]
  },
  {
   "cell_type": "code",
   "execution_count": 21,
   "metadata": {},
   "outputs": [
    {
     "data": {
      "text/plain": [
       "DegreeView({'A': 3, 'B': 2, 'C': 2, 'D': 3})"
      ]
     },
     "execution_count": 21,
     "metadata": {},
     "output_type": "execute_result"
    }
   ],
   "source": [
    "nx.degree(G)"
   ]
  },
  {
   "cell_type": "markdown",
   "metadata": {},
   "source": [
    "## Graph Diameter \n",
    "\n",
    "The diameter of a graph tells us the greater distance between any pair of nodes. To compute the diameter, we need to we need to find the shortest path between any pair of nodes. The greatest length of any one of these paths is the diameter. "
   ]
  },
  {
   "cell_type": "code",
   "execution_count": 22,
   "metadata": {},
   "outputs": [
    {
     "data": {
      "text/plain": [
       "2"
      ]
     },
     "execution_count": 22,
     "metadata": {},
     "output_type": "execute_result"
    }
   ],
   "source": [
    "nx.diameter(G)"
   ]
  },
  {
   "cell_type": "markdown",
   "metadata": {},
   "source": [
    "In our example, the diameter is 2, meaning that the greatest distance between any paid of nodes in our graph is 2. How exactly is distance between nodes calculated? Distance is Calculated by summing up the number of shortest paths for each node pair. For example, the distance between node A and B is 1 because there is only 1 short path to go from A to B. The distance between B to C is 2. Even though B is not connected to C, we can traverse the graph link by link and to get from B to C, it takes exactly two paths. There are two algorithms that crawl every possible path for each node pair. This is all built into the nx.diameter function from the networkkx package.  \n",
    "\n",
    "## Graph Density \n",
    "\n",
    "The graph density is a measure of how complete a graph is. By definition a complete graph is a graph where every pair of nodes is connected by an edge. For a single mode graph, the density runs ona 0 to 1 scale where 0 means no nodes have edges and 1 means every node has an edge. For multi-mode graphs, the density can exceed 1. The formula is show below. n stands for number of nodes and e stands for number of edges. In our example, we can see that there is no connection between B to C. \n",
    "\n",
    "$D=\\frac{2e}{n(n-1)}$"
   ]
  },
  {
   "cell_type": "code",
   "execution_count": 23,
   "metadata": {},
   "outputs": [
    {
     "data": {
      "text/plain": [
       "0.8333333333333334"
      ]
     },
     "execution_count": 23,
     "metadata": {},
     "output_type": "execute_result"
    }
   ],
   "source": [
    "nx.density(G)"
   ]
  },
  {
   "cell_type": "markdown",
   "metadata": {},
   "source": [
    "## Standard Metrics \n",
    "\n",
    "Standard metrics are basic descriptives that we can pull from a graph such as the number of nodes and the number of edges."
   ]
  },
  {
   "cell_type": "code",
   "execution_count": 27,
   "metadata": {},
   "outputs": [
    {
     "name": "stdout",
     "output_type": "stream",
     "text": [
      "The Number of Nodes:  4\n",
      "The Number of Edges:  5\n"
     ]
    }
   ],
   "source": [
    "print(\"The Number of Nodes: \", nx.number_of_nodes(G))\n",
    "print(\"The Number of Edges: \",  nx.number_of_edges(G))"
   ]
  },
  {
   "cell_type": "markdown",
   "metadata": {},
   "source": [
    "## Next Time \n",
    "\n",
    "For next time, we will be taking a deeper dive into into Graph traversing and chapter three of the social network analysis book. Please read that chapter in the meantime. \n",
    "\n",
    "## Homework \n",
    "\n",
    "You will be given a simple graph K. Your job is to find the following using pencil and paper only. You may use code to check your answers: \n",
    "\n",
    "* How many edges are in this graph?\n",
    "\n",
    "* How many nodes are in this graph?\n",
    "\n",
    "* What is the node with the highest degree? \n",
    "\n",
    "* What is the diameter of graph k? \n",
    "\n",
    "* Compute the graph density \n",
    "\n",
    "The next part of your homework is to go through this numpy tutorial. https://numpy.org/devdocs/user/quickstart.html\n"
   ]
  },
  {
   "cell_type": "code",
   "execution_count": 6,
   "metadata": {},
   "outputs": [],
   "source": [
    "K = nx.Graph()\n",
    "\n",
    "nodes = ['A','B','C','D','E','F']\n",
    "K.add_nodes_from(nodes)\n",
    "\n",
    "edges = [('A','C'),('A','B'),('B','D'),('A','D'),('C','D'),('A','F'),('E','F'),('E','D'),('A','E')]\n",
    "\n",
    "K.add_edges_from(edges)"
   ]
  },
  {
   "cell_type": "code",
   "execution_count": 7,
   "metadata": {},
   "outputs": [
    {
     "data": {
      "image/png": "[encoded data removed]",
      "text/plain": [
       "<matplotlib.figure.Figure at 0x24885bee0b8>"
      ]
     },
     "metadata": {},
     "output_type": "display_data"
    }
   ],
   "source": [
    "nx.draw(K, with_labels = True)\n",
    "plt.show()"
   ]
  },
  {
   "cell_type": "code",
   "execution_count": null,
   "metadata": {},
   "outputs": [],
   "source": []
  }
 ],
 "metadata": {
  "kernelspec": {
   "display_name": "Python 3",
   "language": "python",
   "name": "python3"
  },
  "language_info": {
   "codemirror_mode": {
    "name": "ipython",
    "version": 3
   },
   "file_extension": ".py",
   "mimetype": "text/x-python",
   "name": "python",
   "nbconvert_exporter": "python",
   "pygments_lexer": "ipython3",
   "version": "3.6.6"
  }
 },
 "nbformat": 4,
 "nbformat_minor": 2
}
